{
 "cells": [
  {
   "cell_type": "markdown",
   "metadata": {
    "colab": {
     "base_uri": "https://localhost:8080/",
     "height": 207
    },
    "id": "M9ZZemuNihBv",
    "outputId": "a089bc19-ae5b-4789-e51f-87a8232a578f"
   },
   "source": [
    "_________________________________________________________________________________________________________\n",
    "## BASIC CERTIFICATION COURSE IN ARTIFICIAL INTELLIGENCE \n",
    "----------------------------------------------------------------------------------------------------\n",
    "### Case Study 1 - Analysis of Treatment Quality and Efficiency of Hospitals \n",
    "\n",
    "----------------------------------------------------------------------------------------------------\n",
    "Submitted by - Hitesh Dhawan"
   ]
  },
  {
   "cell_type": "markdown",
   "metadata": {
    "id": "st2OhRSxNKZV"
   },
   "source": [
    "**Case Study 1:**\n",
    "Analysis of Treatment Quality and Efficiency of Hospitals\n",
    "\n",
    "**Source:** Journal of Health and Medical Sciences, Authored by Viju Raghupathi and Wullianallur\n",
    "Raghupathi, School of Business, Brooklyn College, City University of Newyork, USA.\n",
    "\n",
    "**Problem Statement:** The Objective of this research is to escalate the health care expenditure and the\n",
    "number of hospitalizations.\n",
    "\n",
    "**Data Source**: The health data for the study was extracted from the Statewide Planning and Research\n",
    "Cooperative System (SPARCS) of the New York State Department of Health (NYSDOH). We extracted\n",
    "200,000 patient records for the period 2009 to 2012. Data from such a large dataset is naturally\n",
    "characterized by a degree of incompleteness and fuzziness. The data includes the hospitalization\n",
    "indicators such as **facility ID, procedure description, type of admission, patient disposition upon\n",
    "discharge, APR severity of illness, source of payment, and age group.** The indicators for treatment result\n",
    "include length of stay and APR risk :\n"
   ]
  },
  {
   "cell_type": "code",
   "execution_count": 2,
   "metadata": {
    "id": "ZjzKaETf3AmV"
   },
   "outputs": [],
   "source": [
    "import pandas as pd\n",
    "import numpy as np\n",
    "import matplotlib.pyplot as plt\n",
    "%matplotlib inline"
   ]
  },
  {
   "cell_type": "code",
   "execution_count": null,
   "metadata": {
    "id": "FHdffWlWnNPo"
   },
   "outputs": [],
   "source": [
    "from google.colab import files\n",
    "files.upload()"
   ]
  },
  {
   "cell_type": "code",
   "execution_count": 160,
   "metadata": {
    "colab": {
     "base_uri": "https://localhost:8080/"
    },
    "id": "Ybf3nISP3Amf",
    "outputId": "1d4b9a7c-8243-4c68-97f3-774cd4473afc"
   },
   "outputs": [
    {
     "name": "stdout",
     "output_type": "stream",
     "text": [
      "Index(['Health Service Area', 'Hospital County',\n",
      "       'Operating Certificate Number', 'Facility ID', 'Age Group',\n",
      "       'Length of Stay', 'Type of Admission', 'Patient Disposition',\n",
      "       'CCS Procedure Description', 'APR Severity of Illness Code',\n",
      "       'APR Risk of Mortality', 'Source of Payment 1', 'Total Costs'],\n",
      "      dtype='object')\n"
     ]
    }
   ],
   "source": [
    "data = pd.read_csv('sparcs1.csv')\n",
    "print(data.columns)\n"
   ]
  },
  {
   "cell_type": "code",
   "execution_count": 161,
   "metadata": {
    "colab": {
     "base_uri": "https://localhost:8080/"
    },
    "id": "6OwA2xxOjypP",
    "outputId": "00afb562-6cfb-44b9-efce-44860433d90a"
   },
   "outputs": [
    {
     "data": {
      "text/plain": [
       "(19999, 13)"
      ]
     },
     "execution_count": 161,
     "metadata": {},
     "output_type": "execute_result"
    }
   ],
   "source": [
    "data.shape"
   ]
  },
  {
   "cell_type": "code",
   "execution_count": 162,
   "metadata": {
    "colab": {
     "base_uri": "https://localhost:8080/",
     "height": 389
    },
    "id": "kJ9NScaV3Ams",
    "outputId": "23c13137-6450-4b11-cc6c-41fbad43232d"
   },
   "outputs": [
    {
     "data": {
      "text/html": [
       "\n",
       "  <div id=\"df-982e6e3e-85eb-430b-827a-b10b75683a9f\">\n",
       "    <div class=\"colab-df-container\">\n",
       "      <div>\n",
       "<style scoped>\n",
       "    .dataframe tbody tr th:only-of-type {\n",
       "        vertical-align: middle;\n",
       "    }\n",
       "\n",
       "    .dataframe tbody tr th {\n",
       "        vertical-align: top;\n",
       "    }\n",
       "\n",
       "    .dataframe thead th {\n",
       "        text-align: right;\n",
       "    }\n",
       "</style>\n",
       "<table border=\"1\" class=\"dataframe\">\n",
       "  <thead>\n",
       "    <tr style=\"text-align: right;\">\n",
       "      <th></th>\n",
       "      <th>Health Service Area</th>\n",
       "      <th>Hospital County</th>\n",
       "      <th>Operating Certificate Number</th>\n",
       "      <th>Facility ID</th>\n",
       "      <th>Age Group</th>\n",
       "      <th>Length of Stay</th>\n",
       "      <th>Type of Admission</th>\n",
       "      <th>Patient Disposition</th>\n",
       "      <th>CCS Procedure Description</th>\n",
       "      <th>APR Severity of Illness Code</th>\n",
       "      <th>APR Risk of Mortality</th>\n",
       "      <th>Source of Payment 1</th>\n",
       "      <th>Total Costs</th>\n",
       "    </tr>\n",
       "  </thead>\n",
       "  <tbody>\n",
       "    <tr>\n",
       "      <th>0</th>\n",
       "      <td>New York City</td>\n",
       "      <td>Manhattan</td>\n",
       "      <td>7002054.0</td>\n",
       "      <td>1458.0</td>\n",
       "      <td>0 to 17</td>\n",
       "      <td>2</td>\n",
       "      <td>Newborn</td>\n",
       "      <td>Home or Self Care</td>\n",
       "      <td>CIRCUMCISION</td>\n",
       "      <td>1</td>\n",
       "      <td>Minor</td>\n",
       "      <td>Insurance Company</td>\n",
       "      <td>1,685.18</td>\n",
       "    </tr>\n",
       "    <tr>\n",
       "      <th>1</th>\n",
       "      <td>New York City</td>\n",
       "      <td>Manhattan</td>\n",
       "      <td>7002054.0</td>\n",
       "      <td>1458.0</td>\n",
       "      <td>0 to 17</td>\n",
       "      <td>4</td>\n",
       "      <td>Emergency</td>\n",
       "      <td>Cancer Center or Children's Hospital</td>\n",
       "      <td>RESP INTUB/MECH VENTIL</td>\n",
       "      <td>2</td>\n",
       "      <td>Major</td>\n",
       "      <td>Insurance Company</td>\n",
       "      <td>17,394.94</td>\n",
       "    </tr>\n",
       "    <tr>\n",
       "      <th>2</th>\n",
       "      <td>New York City</td>\n",
       "      <td>Manhattan</td>\n",
       "      <td>7002054.0</td>\n",
       "      <td>1464.0</td>\n",
       "      <td>0 to 17</td>\n",
       "      <td>2</td>\n",
       "      <td>Newborn</td>\n",
       "      <td>Home or Self Care</td>\n",
       "      <td>OPHTHALM-/OT-OLOGIC DX</td>\n",
       "      <td>1</td>\n",
       "      <td>Minor</td>\n",
       "      <td>Blue Cross</td>\n",
       "      <td>1,818.44</td>\n",
       "    </tr>\n",
       "    <tr>\n",
       "      <th>3</th>\n",
       "      <td>Southern Tier</td>\n",
       "      <td>Tompkins</td>\n",
       "      <td>5401001.0</td>\n",
       "      <td>977.0</td>\n",
       "      <td>0 to 17</td>\n",
       "      <td>2</td>\n",
       "      <td>Newborn</td>\n",
       "      <td>Home or Self Care</td>\n",
       "      <td>PROPHYLACTIC VAC/INOCUL</td>\n",
       "      <td>2</td>\n",
       "      <td>Minor</td>\n",
       "      <td>Blue Cross</td>\n",
       "      <td>1,024.48</td>\n",
       "    </tr>\n",
       "    <tr>\n",
       "      <th>4</th>\n",
       "      <td>New York City</td>\n",
       "      <td>Bronx</td>\n",
       "      <td>7000014.0</td>\n",
       "      <td>1176.0</td>\n",
       "      <td>0 to 17</td>\n",
       "      <td>3</td>\n",
       "      <td>Emergency</td>\n",
       "      <td>Home or Self Care</td>\n",
       "      <td>DIAGNOSTIC SPINAL TAP</td>\n",
       "      <td>2</td>\n",
       "      <td>Minor</td>\n",
       "      <td>Self-Pay</td>\n",
       "      <td>3,238.19</td>\n",
       "    </tr>\n",
       "  </tbody>\n",
       "</table>\n",
       "</div>\n",
       "      <button class=\"colab-df-convert\" onclick=\"convertToInteractive('df-982e6e3e-85eb-430b-827a-b10b75683a9f')\"\n",
       "              title=\"Convert this dataframe to an interactive table.\"\n",
       "              style=\"display:none;\">\n",
       "        \n",
       "  <svg xmlns=\"http://www.w3.org/2000/svg\" height=\"24px\"viewBox=\"0 0 24 24\"\n",
       "       width=\"24px\">\n",
       "    <path d=\"M0 0h24v24H0V0z\" fill=\"none\"/>\n",
       "    <path d=\"M18.56 5.44l.94 2.06.94-2.06 2.06-.94-2.06-.94-.94-2.06-.94 2.06-2.06.94zm-11 1L8.5 8.5l.94-2.06 2.06-.94-2.06-.94L8.5 2.5l-.94 2.06-2.06.94zm10 10l.94 2.06.94-2.06 2.06-.94-2.06-.94-.94-2.06-.94 2.06-2.06.94z\"/><path d=\"M17.41 7.96l-1.37-1.37c-.4-.4-.92-.59-1.43-.59-.52 0-1.04.2-1.43.59L10.3 9.45l-7.72 7.72c-.78.78-.78 2.05 0 2.83L4 21.41c.39.39.9.59 1.41.59.51 0 1.02-.2 1.41-.59l7.78-7.78 2.81-2.81c.8-.78.8-2.07 0-2.86zM5.41 20L4 18.59l7.72-7.72 1.47 1.35L5.41 20z\"/>\n",
       "  </svg>\n",
       "      </button>\n",
       "      \n",
       "  <style>\n",
       "    .colab-df-container {\n",
       "      display:flex;\n",
       "      flex-wrap:wrap;\n",
       "      gap: 12px;\n",
       "    }\n",
       "\n",
       "    .colab-df-convert {\n",
       "      background-color: #E8F0FE;\n",
       "      border: none;\n",
       "      border-radius: 50%;\n",
       "      cursor: pointer;\n",
       "      display: none;\n",
       "      fill: #1967D2;\n",
       "      height: 32px;\n",
       "      padding: 0 0 0 0;\n",
       "      width: 32px;\n",
       "    }\n",
       "\n",
       "    .colab-df-convert:hover {\n",
       "      background-color: #E2EBFA;\n",
       "      box-shadow: 0px 1px 2px rgba(60, 64, 67, 0.3), 0px 1px 3px 1px rgba(60, 64, 67, 0.15);\n",
       "      fill: #174EA6;\n",
       "    }\n",
       "\n",
       "    [theme=dark] .colab-df-convert {\n",
       "      background-color: #3B4455;\n",
       "      fill: #D2E3FC;\n",
       "    }\n",
       "\n",
       "    [theme=dark] .colab-df-convert:hover {\n",
       "      background-color: #434B5C;\n",
       "      box-shadow: 0px 1px 3px 1px rgba(0, 0, 0, 0.15);\n",
       "      filter: drop-shadow(0px 1px 2px rgba(0, 0, 0, 0.3));\n",
       "      fill: #FFFFFF;\n",
       "    }\n",
       "  </style>\n",
       "\n",
       "      <script>\n",
       "        const buttonEl =\n",
       "          document.querySelector('#df-982e6e3e-85eb-430b-827a-b10b75683a9f button.colab-df-convert');\n",
       "        buttonEl.style.display =\n",
       "          google.colab.kernel.accessAllowed ? 'block' : 'none';\n",
       "\n",
       "        async function convertToInteractive(key) {\n",
       "          const element = document.querySelector('#df-982e6e3e-85eb-430b-827a-b10b75683a9f');\n",
       "          const dataTable =\n",
       "            await google.colab.kernel.invokeFunction('convertToInteractive',\n",
       "                                                     [key], {});\n",
       "          if (!dataTable) return;\n",
       "\n",
       "          const docLinkHtml = 'Like what you see? Visit the ' +\n",
       "            '<a target=\"_blank\" href=https://colab.research.google.com/notebooks/data_table.ipynb>data table notebook</a>'\n",
       "            + ' to learn more about interactive tables.';\n",
       "          element.innerHTML = '';\n",
       "          dataTable['output_type'] = 'display_data';\n",
       "          await google.colab.output.renderOutput(dataTable, element);\n",
       "          const docLink = document.createElement('div');\n",
       "          docLink.innerHTML = docLinkHtml;\n",
       "          element.appendChild(docLink);\n",
       "        }\n",
       "      </script>\n",
       "    </div>\n",
       "  </div>\n",
       "  "
      ],
      "text/plain": [
       "  Health Service Area Hospital County  Operating Certificate Number  \\\n",
       "0       New York City       Manhattan                     7002054.0   \n",
       "1       New York City       Manhattan                     7002054.0   \n",
       "2       New York City       Manhattan                     7002054.0   \n",
       "3       Southern Tier        Tompkins                     5401001.0   \n",
       "4       New York City           Bronx                     7000014.0   \n",
       "\n",
       "   Facility ID Age Group Length of Stay Type of Admission  \\\n",
       "0       1458.0   0 to 17              2           Newborn   \n",
       "1       1458.0   0 to 17              4         Emergency   \n",
       "2       1464.0   0 to 17              2           Newborn   \n",
       "3        977.0   0 to 17              2           Newborn   \n",
       "4       1176.0   0 to 17              3         Emergency   \n",
       "\n",
       "                    Patient Disposition CCS Procedure Description  \\\n",
       "0                     Home or Self Care              CIRCUMCISION   \n",
       "1  Cancer Center or Children's Hospital    RESP INTUB/MECH VENTIL   \n",
       "2                     Home or Self Care    OPHTHALM-/OT-OLOGIC DX   \n",
       "3                     Home or Self Care   PROPHYLACTIC VAC/INOCUL   \n",
       "4                     Home or Self Care     DIAGNOSTIC SPINAL TAP   \n",
       "\n",
       "   APR Severity of Illness Code APR Risk of Mortality Source of Payment 1  \\\n",
       "0                             1                 Minor   Insurance Company   \n",
       "1                             2                 Major   Insurance Company   \n",
       "2                             1                 Minor          Blue Cross   \n",
       "3                             2                 Minor          Blue Cross   \n",
       "4                             2                 Minor            Self-Pay   \n",
       "\n",
       "  Total Costs  \n",
       "0    1,685.18  \n",
       "1   17,394.94  \n",
       "2    1,818.44  \n",
       "3    1,024.48  \n",
       "4    3,238.19  "
      ]
     },
     "execution_count": 162,
     "metadata": {},
     "output_type": "execute_result"
    }
   ],
   "source": [
    "data.head()"
   ]
  },
  {
   "cell_type": "code",
   "execution_count": 163,
   "metadata": {
    "colab": {
     "base_uri": "https://localhost:8080/",
     "height": 389
    },
    "id": "Qxvg0UbdRFaU",
    "outputId": "f1665684-a368-4afc-827b-2b8ddf81aaff"
   },
   "outputs": [
    {
     "data": {
      "text/html": [
       "\n",
       "  <div id=\"df-6c5bb308-7e59-4991-bec3-5c8bbec7cf2c\">\n",
       "    <div class=\"colab-df-container\">\n",
       "      <div>\n",
       "<style scoped>\n",
       "    .dataframe tbody tr th:only-of-type {\n",
       "        vertical-align: middle;\n",
       "    }\n",
       "\n",
       "    .dataframe tbody tr th {\n",
       "        vertical-align: top;\n",
       "    }\n",
       "\n",
       "    .dataframe thead th {\n",
       "        text-align: right;\n",
       "    }\n",
       "</style>\n",
       "<table border=\"1\" class=\"dataframe\">\n",
       "  <thead>\n",
       "    <tr style=\"text-align: right;\">\n",
       "      <th></th>\n",
       "      <th>Health Service Area</th>\n",
       "      <th>Hospital County</th>\n",
       "      <th>Operating Certificate Number</th>\n",
       "      <th>Facility ID</th>\n",
       "      <th>Age Group</th>\n",
       "      <th>Length of Stay</th>\n",
       "      <th>Type of Admission</th>\n",
       "      <th>Patient Disposition</th>\n",
       "      <th>CCS Procedure Description</th>\n",
       "      <th>APR Severity of Illness Code</th>\n",
       "      <th>APR Risk of Mortality</th>\n",
       "      <th>Source of Payment 1</th>\n",
       "      <th>Total Costs</th>\n",
       "    </tr>\n",
       "  </thead>\n",
       "  <tbody>\n",
       "    <tr>\n",
       "      <th>19994</th>\n",
       "      <td>New York City</td>\n",
       "      <td>Manhattan</td>\n",
       "      <td>7002024.0</td>\n",
       "      <td>1456.0</td>\n",
       "      <td>0 to 17</td>\n",
       "      <td>4</td>\n",
       "      <td>Newborn</td>\n",
       "      <td>Home or Self Care</td>\n",
       "      <td>OPHTHALM-/OT-OLOGIC DX</td>\n",
       "      <td>1</td>\n",
       "      <td>Minor</td>\n",
       "      <td>Insurance Company</td>\n",
       "      <td>1,797.39</td>\n",
       "    </tr>\n",
       "    <tr>\n",
       "      <th>19995</th>\n",
       "      <td>New York City</td>\n",
       "      <td>Manhattan</td>\n",
       "      <td>7002024.0</td>\n",
       "      <td>1456.0</td>\n",
       "      <td>0 to 17</td>\n",
       "      <td>2</td>\n",
       "      <td>Newborn</td>\n",
       "      <td>Home or Self Care</td>\n",
       "      <td>OTHER THERAPEUTIC PRCS</td>\n",
       "      <td>1</td>\n",
       "      <td>Minor</td>\n",
       "      <td>Blue Cross</td>\n",
       "      <td>922.71</td>\n",
       "    </tr>\n",
       "    <tr>\n",
       "      <th>19996</th>\n",
       "      <td>New York City</td>\n",
       "      <td>Manhattan</td>\n",
       "      <td>7002024.0</td>\n",
       "      <td>1456.0</td>\n",
       "      <td>0 to 17</td>\n",
       "      <td>2</td>\n",
       "      <td>Newborn</td>\n",
       "      <td>Home or Self Care</td>\n",
       "      <td>OPHTHALM-/OT-OLOGIC DX</td>\n",
       "      <td>1</td>\n",
       "      <td>Minor</td>\n",
       "      <td>Insurance Company</td>\n",
       "      <td>916.56</td>\n",
       "    </tr>\n",
       "    <tr>\n",
       "      <th>19997</th>\n",
       "      <td>New York City</td>\n",
       "      <td>Manhattan</td>\n",
       "      <td>7002024.0</td>\n",
       "      <td>1456.0</td>\n",
       "      <td>0 to 17</td>\n",
       "      <td>2</td>\n",
       "      <td>Newborn</td>\n",
       "      <td>Home or Self Care</td>\n",
       "      <td>OPHTHALM-/OT-OLOGIC DX</td>\n",
       "      <td>1</td>\n",
       "      <td>Minor</td>\n",
       "      <td>Insurance Company</td>\n",
       "      <td>900.12</td>\n",
       "    </tr>\n",
       "    <tr>\n",
       "      <th>19998</th>\n",
       "      <td>New York City</td>\n",
       "      <td>Manhattan</td>\n",
       "      <td>7002024.0</td>\n",
       "      <td>1456.0</td>\n",
       "      <td>0 to 17</td>\n",
       "      <td>1</td>\n",
       "      <td>Newborn</td>\n",
       "      <td>Home or Self Care</td>\n",
       "      <td>OPHTHALM-/OT-OLOGIC DX</td>\n",
       "      <td>1</td>\n",
       "      <td>Minor</td>\n",
       "      <td>Insurance Company</td>\n",
       "      <td>466.94</td>\n",
       "    </tr>\n",
       "  </tbody>\n",
       "</table>\n",
       "</div>\n",
       "      <button class=\"colab-df-convert\" onclick=\"convertToInteractive('df-6c5bb308-7e59-4991-bec3-5c8bbec7cf2c')\"\n",
       "              title=\"Convert this dataframe to an interactive table.\"\n",
       "              style=\"display:none;\">\n",
       "        \n",
       "  <svg xmlns=\"http://www.w3.org/2000/svg\" height=\"24px\"viewBox=\"0 0 24 24\"\n",
       "       width=\"24px\">\n",
       "    <path d=\"M0 0h24v24H0V0z\" fill=\"none\"/>\n",
       "    <path d=\"M18.56 5.44l.94 2.06.94-2.06 2.06-.94-2.06-.94-.94-2.06-.94 2.06-2.06.94zm-11 1L8.5 8.5l.94-2.06 2.06-.94-2.06-.94L8.5 2.5l-.94 2.06-2.06.94zm10 10l.94 2.06.94-2.06 2.06-.94-2.06-.94-.94-2.06-.94 2.06-2.06.94z\"/><path d=\"M17.41 7.96l-1.37-1.37c-.4-.4-.92-.59-1.43-.59-.52 0-1.04.2-1.43.59L10.3 9.45l-7.72 7.72c-.78.78-.78 2.05 0 2.83L4 21.41c.39.39.9.59 1.41.59.51 0 1.02-.2 1.41-.59l7.78-7.78 2.81-2.81c.8-.78.8-2.07 0-2.86zM5.41 20L4 18.59l7.72-7.72 1.47 1.35L5.41 20z\"/>\n",
       "  </svg>\n",
       "      </button>\n",
       "      \n",
       "  <style>\n",
       "    .colab-df-container {\n",
       "      display:flex;\n",
       "      flex-wrap:wrap;\n",
       "      gap: 12px;\n",
       "    }\n",
       "\n",
       "    .colab-df-convert {\n",
       "      background-color: #E8F0FE;\n",
       "      border: none;\n",
       "      border-radius: 50%;\n",
       "      cursor: pointer;\n",
       "      display: none;\n",
       "      fill: #1967D2;\n",
       "      height: 32px;\n",
       "      padding: 0 0 0 0;\n",
       "      width: 32px;\n",
       "    }\n",
       "\n",
       "    .colab-df-convert:hover {\n",
       "      background-color: #E2EBFA;\n",
       "      box-shadow: 0px 1px 2px rgba(60, 64, 67, 0.3), 0px 1px 3px 1px rgba(60, 64, 67, 0.15);\n",
       "      fill: #174EA6;\n",
       "    }\n",
       "\n",
       "    [theme=dark] .colab-df-convert {\n",
       "      background-color: #3B4455;\n",
       "      fill: #D2E3FC;\n",
       "    }\n",
       "\n",
       "    [theme=dark] .colab-df-convert:hover {\n",
       "      background-color: #434B5C;\n",
       "      box-shadow: 0px 1px 3px 1px rgba(0, 0, 0, 0.15);\n",
       "      filter: drop-shadow(0px 1px 2px rgba(0, 0, 0, 0.3));\n",
       "      fill: #FFFFFF;\n",
       "    }\n",
       "  </style>\n",
       "\n",
       "      <script>\n",
       "        const buttonEl =\n",
       "          document.querySelector('#df-6c5bb308-7e59-4991-bec3-5c8bbec7cf2c button.colab-df-convert');\n",
       "        buttonEl.style.display =\n",
       "          google.colab.kernel.accessAllowed ? 'block' : 'none';\n",
       "\n",
       "        async function convertToInteractive(key) {\n",
       "          const element = document.querySelector('#df-6c5bb308-7e59-4991-bec3-5c8bbec7cf2c');\n",
       "          const dataTable =\n",
       "            await google.colab.kernel.invokeFunction('convertToInteractive',\n",
       "                                                     [key], {});\n",
       "          if (!dataTable) return;\n",
       "\n",
       "          const docLinkHtml = 'Like what you see? Visit the ' +\n",
       "            '<a target=\"_blank\" href=https://colab.research.google.com/notebooks/data_table.ipynb>data table notebook</a>'\n",
       "            + ' to learn more about interactive tables.';\n",
       "          element.innerHTML = '';\n",
       "          dataTable['output_type'] = 'display_data';\n",
       "          await google.colab.output.renderOutput(dataTable, element);\n",
       "          const docLink = document.createElement('div');\n",
       "          docLink.innerHTML = docLinkHtml;\n",
       "          element.appendChild(docLink);\n",
       "        }\n",
       "      </script>\n",
       "    </div>\n",
       "  </div>\n",
       "  "
      ],
      "text/plain": [
       "      Health Service Area Hospital County  Operating Certificate Number  \\\n",
       "19994       New York City       Manhattan                     7002024.0   \n",
       "19995       New York City       Manhattan                     7002024.0   \n",
       "19996       New York City       Manhattan                     7002024.0   \n",
       "19997       New York City       Manhattan                     7002024.0   \n",
       "19998       New York City       Manhattan                     7002024.0   \n",
       "\n",
       "       Facility ID Age Group Length of Stay Type of Admission  \\\n",
       "19994       1456.0   0 to 17              4           Newborn   \n",
       "19995       1456.0   0 to 17              2           Newborn   \n",
       "19996       1456.0   0 to 17              2           Newborn   \n",
       "19997       1456.0   0 to 17              2           Newborn   \n",
       "19998       1456.0   0 to 17              1           Newborn   \n",
       "\n",
       "      Patient Disposition CCS Procedure Description  \\\n",
       "19994   Home or Self Care    OPHTHALM-/OT-OLOGIC DX   \n",
       "19995   Home or Self Care    OTHER THERAPEUTIC PRCS   \n",
       "19996   Home or Self Care    OPHTHALM-/OT-OLOGIC DX   \n",
       "19997   Home or Self Care    OPHTHALM-/OT-OLOGIC DX   \n",
       "19998   Home or Self Care    OPHTHALM-/OT-OLOGIC DX   \n",
       "\n",
       "       APR Severity of Illness Code APR Risk of Mortality Source of Payment 1  \\\n",
       "19994                             1                 Minor   Insurance Company   \n",
       "19995                             1                 Minor          Blue Cross   \n",
       "19996                             1                 Minor   Insurance Company   \n",
       "19997                             1                 Minor   Insurance Company   \n",
       "19998                             1                 Minor   Insurance Company   \n",
       "\n",
       "      Total Costs  \n",
       "19994    1,797.39  \n",
       "19995      922.71  \n",
       "19996      916.56  \n",
       "19997      900.12  \n",
       "19998      466.94  "
      ]
     },
     "execution_count": 163,
     "metadata": {},
     "output_type": "execute_result"
    }
   ],
   "source": [
    "data.tail()"
   ]
  },
  {
   "cell_type": "code",
   "execution_count": 164,
   "metadata": {
    "colab": {
     "base_uri": "https://localhost:8080/",
     "height": 371
    },
    "id": "10o7qgArRI9s",
    "outputId": "17d36bbf-4508-4431-bfe2-873df84ff7b5"
   },
   "outputs": [
    {
     "data": {
      "text/html": [
       "\n",
       "  <div id=\"df-f16425f5-5fb0-468e-b0fa-c0d08ca2e13a\">\n",
       "    <div class=\"colab-df-container\">\n",
       "      <div>\n",
       "<style scoped>\n",
       "    .dataframe tbody tr th:only-of-type {\n",
       "        vertical-align: middle;\n",
       "    }\n",
       "\n",
       "    .dataframe tbody tr th {\n",
       "        vertical-align: top;\n",
       "    }\n",
       "\n",
       "    .dataframe thead th {\n",
       "        text-align: right;\n",
       "    }\n",
       "</style>\n",
       "<table border=\"1\" class=\"dataframe\">\n",
       "  <thead>\n",
       "    <tr style=\"text-align: right;\">\n",
       "      <th></th>\n",
       "      <th>Health Service Area</th>\n",
       "      <th>Hospital County</th>\n",
       "      <th>Operating Certificate Number</th>\n",
       "      <th>Facility ID</th>\n",
       "      <th>Age Group</th>\n",
       "      <th>Length of Stay</th>\n",
       "      <th>Type of Admission</th>\n",
       "      <th>Patient Disposition</th>\n",
       "      <th>CCS Procedure Description</th>\n",
       "      <th>APR Severity of Illness Code</th>\n",
       "      <th>APR Risk of Mortality</th>\n",
       "      <th>Source of Payment 1</th>\n",
       "      <th>Total Costs</th>\n",
       "    </tr>\n",
       "  </thead>\n",
       "  <tbody>\n",
       "    <tr>\n",
       "      <th>5751</th>\n",
       "      <td>New York City</td>\n",
       "      <td>Manhattan</td>\n",
       "      <td>7002054.0</td>\n",
       "      <td>1458.0</td>\n",
       "      <td>0 to 17</td>\n",
       "      <td>1</td>\n",
       "      <td>Newborn</td>\n",
       "      <td>Home or Self Care</td>\n",
       "      <td>OPHTHALM-/OT-OLOGIC DX</td>\n",
       "      <td>1</td>\n",
       "      <td>Minor</td>\n",
       "      <td>Blue Cross</td>\n",
       "      <td>1,005.54</td>\n",
       "    </tr>\n",
       "    <tr>\n",
       "      <th>18168</th>\n",
       "      <td>New York City</td>\n",
       "      <td>Manhattan</td>\n",
       "      <td>7002002.0</td>\n",
       "      <td>1439.0</td>\n",
       "      <td>0 to 17</td>\n",
       "      <td>1</td>\n",
       "      <td>Newborn</td>\n",
       "      <td>Home or Self Care</td>\n",
       "      <td>NO PROC</td>\n",
       "      <td>1</td>\n",
       "      <td>Minor</td>\n",
       "      <td>Insurance Company</td>\n",
       "      <td>896.21</td>\n",
       "    </tr>\n",
       "    <tr>\n",
       "      <th>16751</th>\n",
       "      <td>New York City</td>\n",
       "      <td>Manhattan</td>\n",
       "      <td>7002054.0</td>\n",
       "      <td>1464.0</td>\n",
       "      <td>0 to 17</td>\n",
       "      <td>1</td>\n",
       "      <td>Newborn</td>\n",
       "      <td>Home or Self Care</td>\n",
       "      <td>OPHTHALM-/OT-OLOGIC DX</td>\n",
       "      <td>1</td>\n",
       "      <td>Minor</td>\n",
       "      <td>Insurance Company</td>\n",
       "      <td>1,168.02</td>\n",
       "    </tr>\n",
       "    <tr>\n",
       "      <th>2833</th>\n",
       "      <td>New York City</td>\n",
       "      <td>Manhattan</td>\n",
       "      <td>7002054.0</td>\n",
       "      <td>3975.0</td>\n",
       "      <td>0 to 17</td>\n",
       "      <td>3</td>\n",
       "      <td>Newborn</td>\n",
       "      <td>Home or Self Care</td>\n",
       "      <td>PROPHYLACTIC VAC/INOCUL</td>\n",
       "      <td>1</td>\n",
       "      <td>Minor</td>\n",
       "      <td>Insurance Company</td>\n",
       "      <td>2,217.19</td>\n",
       "    </tr>\n",
       "    <tr>\n",
       "      <th>18468</th>\n",
       "      <td>New York City</td>\n",
       "      <td>Manhattan</td>\n",
       "      <td>7002017.0</td>\n",
       "      <td>1450.0</td>\n",
       "      <td>0 to 17</td>\n",
       "      <td>3</td>\n",
       "      <td>Emergency</td>\n",
       "      <td>Home or Self Care</td>\n",
       "      <td>FETAL MONITORING</td>\n",
       "      <td>2</td>\n",
       "      <td>Minor</td>\n",
       "      <td>Self-Pay</td>\n",
       "      <td>4,357.69</td>\n",
       "    </tr>\n",
       "  </tbody>\n",
       "</table>\n",
       "</div>\n",
       "      <button class=\"colab-df-convert\" onclick=\"convertToInteractive('df-f16425f5-5fb0-468e-b0fa-c0d08ca2e13a')\"\n",
       "              title=\"Convert this dataframe to an interactive table.\"\n",
       "              style=\"display:none;\">\n",
       "        \n",
       "  <svg xmlns=\"http://www.w3.org/2000/svg\" height=\"24px\"viewBox=\"0 0 24 24\"\n",
       "       width=\"24px\">\n",
       "    <path d=\"M0 0h24v24H0V0z\" fill=\"none\"/>\n",
       "    <path d=\"M18.56 5.44l.94 2.06.94-2.06 2.06-.94-2.06-.94-.94-2.06-.94 2.06-2.06.94zm-11 1L8.5 8.5l.94-2.06 2.06-.94-2.06-.94L8.5 2.5l-.94 2.06-2.06.94zm10 10l.94 2.06.94-2.06 2.06-.94-2.06-.94-.94-2.06-.94 2.06-2.06.94z\"/><path d=\"M17.41 7.96l-1.37-1.37c-.4-.4-.92-.59-1.43-.59-.52 0-1.04.2-1.43.59L10.3 9.45l-7.72 7.72c-.78.78-.78 2.05 0 2.83L4 21.41c.39.39.9.59 1.41.59.51 0 1.02-.2 1.41-.59l7.78-7.78 2.81-2.81c.8-.78.8-2.07 0-2.86zM5.41 20L4 18.59l7.72-7.72 1.47 1.35L5.41 20z\"/>\n",
       "  </svg>\n",
       "      </button>\n",
       "      \n",
       "  <style>\n",
       "    .colab-df-container {\n",
       "      display:flex;\n",
       "      flex-wrap:wrap;\n",
       "      gap: 12px;\n",
       "    }\n",
       "\n",
       "    .colab-df-convert {\n",
       "      background-color: #E8F0FE;\n",
       "      border: none;\n",
       "      border-radius: 50%;\n",
       "      cursor: pointer;\n",
       "      display: none;\n",
       "      fill: #1967D2;\n",
       "      height: 32px;\n",
       "      padding: 0 0 0 0;\n",
       "      width: 32px;\n",
       "    }\n",
       "\n",
       "    .colab-df-convert:hover {\n",
       "      background-color: #E2EBFA;\n",
       "      box-shadow: 0px 1px 2px rgba(60, 64, 67, 0.3), 0px 1px 3px 1px rgba(60, 64, 67, 0.15);\n",
       "      fill: #174EA6;\n",
       "    }\n",
       "\n",
       "    [theme=dark] .colab-df-convert {\n",
       "      background-color: #3B4455;\n",
       "      fill: #D2E3FC;\n",
       "    }\n",
       "\n",
       "    [theme=dark] .colab-df-convert:hover {\n",
       "      background-color: #434B5C;\n",
       "      box-shadow: 0px 1px 3px 1px rgba(0, 0, 0, 0.15);\n",
       "      filter: drop-shadow(0px 1px 2px rgba(0, 0, 0, 0.3));\n",
       "      fill: #FFFFFF;\n",
       "    }\n",
       "  </style>\n",
       "\n",
       "      <script>\n",
       "        const buttonEl =\n",
       "          document.querySelector('#df-f16425f5-5fb0-468e-b0fa-c0d08ca2e13a button.colab-df-convert');\n",
       "        buttonEl.style.display =\n",
       "          google.colab.kernel.accessAllowed ? 'block' : 'none';\n",
       "\n",
       "        async function convertToInteractive(key) {\n",
       "          const element = document.querySelector('#df-f16425f5-5fb0-468e-b0fa-c0d08ca2e13a');\n",
       "          const dataTable =\n",
       "            await google.colab.kernel.invokeFunction('convertToInteractive',\n",
       "                                                     [key], {});\n",
       "          if (!dataTable) return;\n",
       "\n",
       "          const docLinkHtml = 'Like what you see? Visit the ' +\n",
       "            '<a target=\"_blank\" href=https://colab.research.google.com/notebooks/data_table.ipynb>data table notebook</a>'\n",
       "            + ' to learn more about interactive tables.';\n",
       "          element.innerHTML = '';\n",
       "          dataTable['output_type'] = 'display_data';\n",
       "          await google.colab.output.renderOutput(dataTable, element);\n",
       "          const docLink = document.createElement('div');\n",
       "          docLink.innerHTML = docLinkHtml;\n",
       "          element.appendChild(docLink);\n",
       "        }\n",
       "      </script>\n",
       "    </div>\n",
       "  </div>\n",
       "  "
      ],
      "text/plain": [
       "      Health Service Area Hospital County  Operating Certificate Number  \\\n",
       "5751        New York City       Manhattan                     7002054.0   \n",
       "18168       New York City       Manhattan                     7002002.0   \n",
       "16751       New York City       Manhattan                     7002054.0   \n",
       "2833        New York City       Manhattan                     7002054.0   \n",
       "18468       New York City       Manhattan                     7002017.0   \n",
       "\n",
       "       Facility ID Age Group Length of Stay Type of Admission  \\\n",
       "5751        1458.0   0 to 17              1           Newborn   \n",
       "18168       1439.0   0 to 17              1           Newborn   \n",
       "16751       1464.0   0 to 17              1           Newborn   \n",
       "2833        3975.0   0 to 17              3           Newborn   \n",
       "18468       1450.0   0 to 17              3         Emergency   \n",
       "\n",
       "      Patient Disposition CCS Procedure Description  \\\n",
       "5751    Home or Self Care    OPHTHALM-/OT-OLOGIC DX   \n",
       "18168   Home or Self Care                   NO PROC   \n",
       "16751   Home or Self Care    OPHTHALM-/OT-OLOGIC DX   \n",
       "2833    Home or Self Care   PROPHYLACTIC VAC/INOCUL   \n",
       "18468   Home or Self Care          FETAL MONITORING   \n",
       "\n",
       "       APR Severity of Illness Code APR Risk of Mortality Source of Payment 1  \\\n",
       "5751                              1                 Minor          Blue Cross   \n",
       "18168                             1                 Minor   Insurance Company   \n",
       "16751                             1                 Minor   Insurance Company   \n",
       "2833                              1                 Minor   Insurance Company   \n",
       "18468                             2                 Minor            Self-Pay   \n",
       "\n",
       "      Total Costs  \n",
       "5751     1,005.54  \n",
       "18168      896.21  \n",
       "16751    1,168.02  \n",
       "2833     2,217.19  \n",
       "18468    4,357.69  "
      ]
     },
     "execution_count": 164,
     "metadata": {},
     "output_type": "execute_result"
    }
   ],
   "source": [
    "data.sample(5)"
   ]
  },
  {
   "cell_type": "code",
   "execution_count": 165,
   "metadata": {
    "colab": {
     "base_uri": "https://localhost:8080/",
     "height": 143
    },
    "id": "6jeKDOpsQPM4",
    "outputId": "204169ab-1c3e-404d-d98f-c13f1d9087fa"
   },
   "outputs": [
    {
     "data": {
      "text/html": [
       "\n",
       "  <div id=\"df-aac6cc13-25e5-4011-9a61-1e1deccf3860\">\n",
       "    <div class=\"colab-df-container\">\n",
       "      <div>\n",
       "<style scoped>\n",
       "    .dataframe tbody tr th:only-of-type {\n",
       "        vertical-align: middle;\n",
       "    }\n",
       "\n",
       "    .dataframe tbody tr th {\n",
       "        vertical-align: top;\n",
       "    }\n",
       "\n",
       "    .dataframe thead th {\n",
       "        text-align: right;\n",
       "    }\n",
       "</style>\n",
       "<table border=\"1\" class=\"dataframe\">\n",
       "  <thead>\n",
       "    <tr style=\"text-align: right;\">\n",
       "      <th></th>\n",
       "      <th>count</th>\n",
       "      <th>mean</th>\n",
       "      <th>std</th>\n",
       "      <th>min</th>\n",
       "      <th>25%</th>\n",
       "      <th>50%</th>\n",
       "      <th>75%</th>\n",
       "      <th>max</th>\n",
       "    </tr>\n",
       "  </thead>\n",
       "  <tbody>\n",
       "    <tr>\n",
       "      <th>Operating Certificate Number</th>\n",
       "      <td>19994.0</td>\n",
       "      <td>6.968105e+06</td>\n",
       "      <td>361111.424700</td>\n",
       "      <td>101000.0</td>\n",
       "      <td>7002017.0</td>\n",
       "      <td>7002032.0</td>\n",
       "      <td>7002054.0</td>\n",
       "      <td>7004010.0</td>\n",
       "    </tr>\n",
       "    <tr>\n",
       "      <th>Facility ID</th>\n",
       "      <td>19994.0</td>\n",
       "      <td>1.574881e+03</td>\n",
       "      <td>570.057810</td>\n",
       "      <td>1.0</td>\n",
       "      <td>1450.0</td>\n",
       "      <td>1458.0</td>\n",
       "      <td>1464.0</td>\n",
       "      <td>3975.0</td>\n",
       "    </tr>\n",
       "    <tr>\n",
       "      <th>APR Severity of Illness Code</th>\n",
       "      <td>19999.0</td>\n",
       "      <td>1.382419e+00</td>\n",
       "      <td>0.669259</td>\n",
       "      <td>0.0</td>\n",
       "      <td>1.0</td>\n",
       "      <td>1.0</td>\n",
       "      <td>2.0</td>\n",
       "      <td>4.0</td>\n",
       "    </tr>\n",
       "  </tbody>\n",
       "</table>\n",
       "</div>\n",
       "      <button class=\"colab-df-convert\" onclick=\"convertToInteractive('df-aac6cc13-25e5-4011-9a61-1e1deccf3860')\"\n",
       "              title=\"Convert this dataframe to an interactive table.\"\n",
       "              style=\"display:none;\">\n",
       "        \n",
       "  <svg xmlns=\"http://www.w3.org/2000/svg\" height=\"24px\"viewBox=\"0 0 24 24\"\n",
       "       width=\"24px\">\n",
       "    <path d=\"M0 0h24v24H0V0z\" fill=\"none\"/>\n",
       "    <path d=\"M18.56 5.44l.94 2.06.94-2.06 2.06-.94-2.06-.94-.94-2.06-.94 2.06-2.06.94zm-11 1L8.5 8.5l.94-2.06 2.06-.94-2.06-.94L8.5 2.5l-.94 2.06-2.06.94zm10 10l.94 2.06.94-2.06 2.06-.94-2.06-.94-.94-2.06-.94 2.06-2.06.94z\"/><path d=\"M17.41 7.96l-1.37-1.37c-.4-.4-.92-.59-1.43-.59-.52 0-1.04.2-1.43.59L10.3 9.45l-7.72 7.72c-.78.78-.78 2.05 0 2.83L4 21.41c.39.39.9.59 1.41.59.51 0 1.02-.2 1.41-.59l7.78-7.78 2.81-2.81c.8-.78.8-2.07 0-2.86zM5.41 20L4 18.59l7.72-7.72 1.47 1.35L5.41 20z\"/>\n",
       "  </svg>\n",
       "      </button>\n",
       "      \n",
       "  <style>\n",
       "    .colab-df-container {\n",
       "      display:flex;\n",
       "      flex-wrap:wrap;\n",
       "      gap: 12px;\n",
       "    }\n",
       "\n",
       "    .colab-df-convert {\n",
       "      background-color: #E8F0FE;\n",
       "      border: none;\n",
       "      border-radius: 50%;\n",
       "      cursor: pointer;\n",
       "      display: none;\n",
       "      fill: #1967D2;\n",
       "      height: 32px;\n",
       "      padding: 0 0 0 0;\n",
       "      width: 32px;\n",
       "    }\n",
       "\n",
       "    .colab-df-convert:hover {\n",
       "      background-color: #E2EBFA;\n",
       "      box-shadow: 0px 1px 2px rgba(60, 64, 67, 0.3), 0px 1px 3px 1px rgba(60, 64, 67, 0.15);\n",
       "      fill: #174EA6;\n",
       "    }\n",
       "\n",
       "    [theme=dark] .colab-df-convert {\n",
       "      background-color: #3B4455;\n",
       "      fill: #D2E3FC;\n",
       "    }\n",
       "\n",
       "    [theme=dark] .colab-df-convert:hover {\n",
       "      background-color: #434B5C;\n",
       "      box-shadow: 0px 1px 3px 1px rgba(0, 0, 0, 0.15);\n",
       "      filter: drop-shadow(0px 1px 2px rgba(0, 0, 0, 0.3));\n",
       "      fill: #FFFFFF;\n",
       "    }\n",
       "  </style>\n",
       "\n",
       "      <script>\n",
       "        const buttonEl =\n",
       "          document.querySelector('#df-aac6cc13-25e5-4011-9a61-1e1deccf3860 button.colab-df-convert');\n",
       "        buttonEl.style.display =\n",
       "          google.colab.kernel.accessAllowed ? 'block' : 'none';\n",
       "\n",
       "        async function convertToInteractive(key) {\n",
       "          const element = document.querySelector('#df-aac6cc13-25e5-4011-9a61-1e1deccf3860');\n",
       "          const dataTable =\n",
       "            await google.colab.kernel.invokeFunction('convertToInteractive',\n",
       "                                                     [key], {});\n",
       "          if (!dataTable) return;\n",
       "\n",
       "          const docLinkHtml = 'Like what you see? Visit the ' +\n",
       "            '<a target=\"_blank\" href=https://colab.research.google.com/notebooks/data_table.ipynb>data table notebook</a>'\n",
       "            + ' to learn more about interactive tables.';\n",
       "          element.innerHTML = '';\n",
       "          dataTable['output_type'] = 'display_data';\n",
       "          await google.colab.output.renderOutput(dataTable, element);\n",
       "          const docLink = document.createElement('div');\n",
       "          docLink.innerHTML = docLinkHtml;\n",
       "          element.appendChild(docLink);\n",
       "        }\n",
       "      </script>\n",
       "    </div>\n",
       "  </div>\n",
       "  "
      ],
      "text/plain": [
       "                                count          mean            std       min  \\\n",
       "Operating Certificate Number  19994.0  6.968105e+06  361111.424700  101000.0   \n",
       "Facility ID                   19994.0  1.574881e+03     570.057810       1.0   \n",
       "APR Severity of Illness Code  19999.0  1.382419e+00       0.669259       0.0   \n",
       "\n",
       "                                    25%        50%        75%        max  \n",
       "Operating Certificate Number  7002017.0  7002032.0  7002054.0  7004010.0  \n",
       "Facility ID                      1450.0     1458.0     1464.0     3975.0  \n",
       "APR Severity of Illness Code        1.0        1.0        2.0        4.0  "
      ]
     },
     "execution_count": 165,
     "metadata": {},
     "output_type": "execute_result"
    }
   ],
   "source": [
    "data.describe().T"
   ]
  },
  {
   "cell_type": "code",
   "execution_count": 166,
   "metadata": {
    "colab": {
     "base_uri": "https://localhost:8080/",
     "height": 371
    },
    "id": "Mu47D-5skb-v",
    "outputId": "bb2705b4-d8f5-416d-e85b-042528dd23cb"
   },
   "outputs": [
    {
     "data": {
      "text/html": [
       "\n",
       "  <div id=\"df-479c6637-0230-402e-8510-574c736ad2b1\">\n",
       "    <div class=\"colab-df-container\">\n",
       "      <div>\n",
       "<style scoped>\n",
       "    .dataframe tbody tr th:only-of-type {\n",
       "        vertical-align: middle;\n",
       "    }\n",
       "\n",
       "    .dataframe tbody tr th {\n",
       "        vertical-align: top;\n",
       "    }\n",
       "\n",
       "    .dataframe thead th {\n",
       "        text-align: right;\n",
       "    }\n",
       "</style>\n",
       "<table border=\"1\" class=\"dataframe\">\n",
       "  <thead>\n",
       "    <tr style=\"text-align: right;\">\n",
       "      <th></th>\n",
       "      <th>Health Service Area</th>\n",
       "      <th>Hospital County</th>\n",
       "      <th>Operating Certificate Number</th>\n",
       "      <th>Facility ID</th>\n",
       "      <th>Age Group</th>\n",
       "      <th>Length of Stay</th>\n",
       "      <th>Type of Admission</th>\n",
       "      <th>Patient Disposition</th>\n",
       "      <th>CCS Procedure Description</th>\n",
       "      <th>APR Severity of Illness Code</th>\n",
       "      <th>APR Risk of Mortality</th>\n",
       "      <th>Source of Payment 1</th>\n",
       "    </tr>\n",
       "  </thead>\n",
       "  <tbody>\n",
       "    <tr>\n",
       "      <th>0</th>\n",
       "      <td>New York City</td>\n",
       "      <td>Manhattan</td>\n",
       "      <td>7002054.0</td>\n",
       "      <td>1458.0</td>\n",
       "      <td>0 to 17</td>\n",
       "      <td>2</td>\n",
       "      <td>Newborn</td>\n",
       "      <td>Home or Self Care</td>\n",
       "      <td>CIRCUMCISION</td>\n",
       "      <td>1</td>\n",
       "      <td>Minor</td>\n",
       "      <td>Insurance Company</td>\n",
       "    </tr>\n",
       "    <tr>\n",
       "      <th>1</th>\n",
       "      <td>New York City</td>\n",
       "      <td>Manhattan</td>\n",
       "      <td>7002054.0</td>\n",
       "      <td>1458.0</td>\n",
       "      <td>0 to 17</td>\n",
       "      <td>4</td>\n",
       "      <td>Emergency</td>\n",
       "      <td>Cancer Center or Children's Hospital</td>\n",
       "      <td>RESP INTUB/MECH VENTIL</td>\n",
       "      <td>2</td>\n",
       "      <td>Major</td>\n",
       "      <td>Insurance Company</td>\n",
       "    </tr>\n",
       "    <tr>\n",
       "      <th>2</th>\n",
       "      <td>New York City</td>\n",
       "      <td>Manhattan</td>\n",
       "      <td>7002054.0</td>\n",
       "      <td>1464.0</td>\n",
       "      <td>0 to 17</td>\n",
       "      <td>2</td>\n",
       "      <td>Newborn</td>\n",
       "      <td>Home or Self Care</td>\n",
       "      <td>OPHTHALM-/OT-OLOGIC DX</td>\n",
       "      <td>1</td>\n",
       "      <td>Minor</td>\n",
       "      <td>Blue Cross</td>\n",
       "    </tr>\n",
       "    <tr>\n",
       "      <th>3</th>\n",
       "      <td>Southern Tier</td>\n",
       "      <td>Tompkins</td>\n",
       "      <td>5401001.0</td>\n",
       "      <td>977.0</td>\n",
       "      <td>0 to 17</td>\n",
       "      <td>2</td>\n",
       "      <td>Newborn</td>\n",
       "      <td>Home or Self Care</td>\n",
       "      <td>PROPHYLACTIC VAC/INOCUL</td>\n",
       "      <td>2</td>\n",
       "      <td>Minor</td>\n",
       "      <td>Blue Cross</td>\n",
       "    </tr>\n",
       "    <tr>\n",
       "      <th>4</th>\n",
       "      <td>New York City</td>\n",
       "      <td>Bronx</td>\n",
       "      <td>7000014.0</td>\n",
       "      <td>1176.0</td>\n",
       "      <td>0 to 17</td>\n",
       "      <td>3</td>\n",
       "      <td>Emergency</td>\n",
       "      <td>Home or Self Care</td>\n",
       "      <td>DIAGNOSTIC SPINAL TAP</td>\n",
       "      <td>2</td>\n",
       "      <td>Minor</td>\n",
       "      <td>Self-Pay</td>\n",
       "    </tr>\n",
       "  </tbody>\n",
       "</table>\n",
       "</div>\n",
       "      <button class=\"colab-df-convert\" onclick=\"convertToInteractive('df-479c6637-0230-402e-8510-574c736ad2b1')\"\n",
       "              title=\"Convert this dataframe to an interactive table.\"\n",
       "              style=\"display:none;\">\n",
       "        \n",
       "  <svg xmlns=\"http://www.w3.org/2000/svg\" height=\"24px\"viewBox=\"0 0 24 24\"\n",
       "       width=\"24px\">\n",
       "    <path d=\"M0 0h24v24H0V0z\" fill=\"none\"/>\n",
       "    <path d=\"M18.56 5.44l.94 2.06.94-2.06 2.06-.94-2.06-.94-.94-2.06-.94 2.06-2.06.94zm-11 1L8.5 8.5l.94-2.06 2.06-.94-2.06-.94L8.5 2.5l-.94 2.06-2.06.94zm10 10l.94 2.06.94-2.06 2.06-.94-2.06-.94-.94-2.06-.94 2.06-2.06.94z\"/><path d=\"M17.41 7.96l-1.37-1.37c-.4-.4-.92-.59-1.43-.59-.52 0-1.04.2-1.43.59L10.3 9.45l-7.72 7.72c-.78.78-.78 2.05 0 2.83L4 21.41c.39.39.9.59 1.41.59.51 0 1.02-.2 1.41-.59l7.78-7.78 2.81-2.81c.8-.78.8-2.07 0-2.86zM5.41 20L4 18.59l7.72-7.72 1.47 1.35L5.41 20z\"/>\n",
       "  </svg>\n",
       "      </button>\n",
       "      \n",
       "  <style>\n",
       "    .colab-df-container {\n",
       "      display:flex;\n",
       "      flex-wrap:wrap;\n",
       "      gap: 12px;\n",
       "    }\n",
       "\n",
       "    .colab-df-convert {\n",
       "      background-color: #E8F0FE;\n",
       "      border: none;\n",
       "      border-radius: 50%;\n",
       "      cursor: pointer;\n",
       "      display: none;\n",
       "      fill: #1967D2;\n",
       "      height: 32px;\n",
       "      padding: 0 0 0 0;\n",
       "      width: 32px;\n",
       "    }\n",
       "\n",
       "    .colab-df-convert:hover {\n",
       "      background-color: #E2EBFA;\n",
       "      box-shadow: 0px 1px 2px rgba(60, 64, 67, 0.3), 0px 1px 3px 1px rgba(60, 64, 67, 0.15);\n",
       "      fill: #174EA6;\n",
       "    }\n",
       "\n",
       "    [theme=dark] .colab-df-convert {\n",
       "      background-color: #3B4455;\n",
       "      fill: #D2E3FC;\n",
       "    }\n",
       "\n",
       "    [theme=dark] .colab-df-convert:hover {\n",
       "      background-color: #434B5C;\n",
       "      box-shadow: 0px 1px 3px 1px rgba(0, 0, 0, 0.15);\n",
       "      filter: drop-shadow(0px 1px 2px rgba(0, 0, 0, 0.3));\n",
       "      fill: #FFFFFF;\n",
       "    }\n",
       "  </style>\n",
       "\n",
       "      <script>\n",
       "        const buttonEl =\n",
       "          document.querySelector('#df-479c6637-0230-402e-8510-574c736ad2b1 button.colab-df-convert');\n",
       "        buttonEl.style.display =\n",
       "          google.colab.kernel.accessAllowed ? 'block' : 'none';\n",
       "\n",
       "        async function convertToInteractive(key) {\n",
       "          const element = document.querySelector('#df-479c6637-0230-402e-8510-574c736ad2b1');\n",
       "          const dataTable =\n",
       "            await google.colab.kernel.invokeFunction('convertToInteractive',\n",
       "                                                     [key], {});\n",
       "          if (!dataTable) return;\n",
       "\n",
       "          const docLinkHtml = 'Like what you see? Visit the ' +\n",
       "            '<a target=\"_blank\" href=https://colab.research.google.com/notebooks/data_table.ipynb>data table notebook</a>'\n",
       "            + ' to learn more about interactive tables.';\n",
       "          element.innerHTML = '';\n",
       "          dataTable['output_type'] = 'display_data';\n",
       "          await google.colab.output.renderOutput(dataTable, element);\n",
       "          const docLink = document.createElement('div');\n",
       "          docLink.innerHTML = docLinkHtml;\n",
       "          element.appendChild(docLink);\n",
       "        }\n",
       "      </script>\n",
       "    </div>\n",
       "  </div>\n",
       "  "
      ],
      "text/plain": [
       "  Health Service Area Hospital County  Operating Certificate Number  \\\n",
       "0       New York City       Manhattan                     7002054.0   \n",
       "1       New York City       Manhattan                     7002054.0   \n",
       "2       New York City       Manhattan                     7002054.0   \n",
       "3       Southern Tier        Tompkins                     5401001.0   \n",
       "4       New York City           Bronx                     7000014.0   \n",
       "\n",
       "   Facility ID Age Group Length of Stay Type of Admission  \\\n",
       "0       1458.0   0 to 17              2           Newborn   \n",
       "1       1458.0   0 to 17              4         Emergency   \n",
       "2       1464.0   0 to 17              2           Newborn   \n",
       "3        977.0   0 to 17              2           Newborn   \n",
       "4       1176.0   0 to 17              3         Emergency   \n",
       "\n",
       "                    Patient Disposition CCS Procedure Description  \\\n",
       "0                     Home or Self Care              CIRCUMCISION   \n",
       "1  Cancer Center or Children's Hospital    RESP INTUB/MECH VENTIL   \n",
       "2                     Home or Self Care    OPHTHALM-/OT-OLOGIC DX   \n",
       "3                     Home or Self Care   PROPHYLACTIC VAC/INOCUL   \n",
       "4                     Home or Self Care     DIAGNOSTIC SPINAL TAP   \n",
       "\n",
       "   APR Severity of Illness Code APR Risk of Mortality Source of Payment 1  \n",
       "0                             1                 Minor   Insurance Company  \n",
       "1                             2                 Major   Insurance Company  \n",
       "2                             1                 Minor          Blue Cross  \n",
       "3                             2                 Minor          Blue Cross  \n",
       "4                             2                 Minor            Self-Pay  "
      ]
     },
     "execution_count": 166,
     "metadata": {},
     "output_type": "execute_result"
    }
   ],
   "source": [
    "data.drop(['Total Costs'], axis = 1, inplace = True)\n",
    "data.head()"
   ]
  },
  {
   "cell_type": "code",
   "execution_count": 167,
   "metadata": {
    "colab": {
     "base_uri": "https://localhost:8080/",
     "height": 371
    },
    "id": "xP45qav9vhX4",
    "outputId": "02e0ce05-d8cf-4dfe-8971-9faa21521790"
   },
   "outputs": [
    {
     "data": {
      "text/html": [
       "\n",
       "  <div id=\"df-d2496909-b143-44de-9183-20db634994a3\">\n",
       "    <div class=\"colab-df-container\">\n",
       "      <div>\n",
       "<style scoped>\n",
       "    .dataframe tbody tr th:only-of-type {\n",
       "        vertical-align: middle;\n",
       "    }\n",
       "\n",
       "    .dataframe tbody tr th {\n",
       "        vertical-align: top;\n",
       "    }\n",
       "\n",
       "    .dataframe thead th {\n",
       "        text-align: right;\n",
       "    }\n",
       "</style>\n",
       "<table border=\"1\" class=\"dataframe\">\n",
       "  <thead>\n",
       "    <tr style=\"text-align: right;\">\n",
       "      <th></th>\n",
       "      <th>Health Service Area</th>\n",
       "      <th>Operating Certificate Number</th>\n",
       "      <th>Facility ID</th>\n",
       "      <th>Age Group</th>\n",
       "      <th>Length of Stay</th>\n",
       "      <th>Type of Admission</th>\n",
       "      <th>Patient Disposition</th>\n",
       "      <th>CCS Procedure Description</th>\n",
       "      <th>APR Severity of Illness Code</th>\n",
       "      <th>APR Risk of Mortality</th>\n",
       "      <th>Source of Payment 1</th>\n",
       "    </tr>\n",
       "  </thead>\n",
       "  <tbody>\n",
       "    <tr>\n",
       "      <th>0</th>\n",
       "      <td>New York City</td>\n",
       "      <td>7002054.0</td>\n",
       "      <td>1458.0</td>\n",
       "      <td>0 to 17</td>\n",
       "      <td>2</td>\n",
       "      <td>Newborn</td>\n",
       "      <td>Home or Self Care</td>\n",
       "      <td>CIRCUMCISION</td>\n",
       "      <td>1</td>\n",
       "      <td>Minor</td>\n",
       "      <td>Insurance Company</td>\n",
       "    </tr>\n",
       "    <tr>\n",
       "      <th>1</th>\n",
       "      <td>New York City</td>\n",
       "      <td>7002054.0</td>\n",
       "      <td>1458.0</td>\n",
       "      <td>0 to 17</td>\n",
       "      <td>4</td>\n",
       "      <td>Emergency</td>\n",
       "      <td>Cancer Center or Children's Hospital</td>\n",
       "      <td>RESP INTUB/MECH VENTIL</td>\n",
       "      <td>2</td>\n",
       "      <td>Major</td>\n",
       "      <td>Insurance Company</td>\n",
       "    </tr>\n",
       "    <tr>\n",
       "      <th>2</th>\n",
       "      <td>New York City</td>\n",
       "      <td>7002054.0</td>\n",
       "      <td>1464.0</td>\n",
       "      <td>0 to 17</td>\n",
       "      <td>2</td>\n",
       "      <td>Newborn</td>\n",
       "      <td>Home or Self Care</td>\n",
       "      <td>OPHTHALM-/OT-OLOGIC DX</td>\n",
       "      <td>1</td>\n",
       "      <td>Minor</td>\n",
       "      <td>Blue Cross</td>\n",
       "    </tr>\n",
       "    <tr>\n",
       "      <th>3</th>\n",
       "      <td>Southern Tier</td>\n",
       "      <td>5401001.0</td>\n",
       "      <td>977.0</td>\n",
       "      <td>0 to 17</td>\n",
       "      <td>2</td>\n",
       "      <td>Newborn</td>\n",
       "      <td>Home or Self Care</td>\n",
       "      <td>PROPHYLACTIC VAC/INOCUL</td>\n",
       "      <td>2</td>\n",
       "      <td>Minor</td>\n",
       "      <td>Blue Cross</td>\n",
       "    </tr>\n",
       "    <tr>\n",
       "      <th>4</th>\n",
       "      <td>New York City</td>\n",
       "      <td>7000014.0</td>\n",
       "      <td>1176.0</td>\n",
       "      <td>0 to 17</td>\n",
       "      <td>3</td>\n",
       "      <td>Emergency</td>\n",
       "      <td>Home or Self Care</td>\n",
       "      <td>DIAGNOSTIC SPINAL TAP</td>\n",
       "      <td>2</td>\n",
       "      <td>Minor</td>\n",
       "      <td>Self-Pay</td>\n",
       "    </tr>\n",
       "  </tbody>\n",
       "</table>\n",
       "</div>\n",
       "      <button class=\"colab-df-convert\" onclick=\"convertToInteractive('df-d2496909-b143-44de-9183-20db634994a3')\"\n",
       "              title=\"Convert this dataframe to an interactive table.\"\n",
       "              style=\"display:none;\">\n",
       "        \n",
       "  <svg xmlns=\"http://www.w3.org/2000/svg\" height=\"24px\"viewBox=\"0 0 24 24\"\n",
       "       width=\"24px\">\n",
       "    <path d=\"M0 0h24v24H0V0z\" fill=\"none\"/>\n",
       "    <path d=\"M18.56 5.44l.94 2.06.94-2.06 2.06-.94-2.06-.94-.94-2.06-.94 2.06-2.06.94zm-11 1L8.5 8.5l.94-2.06 2.06-.94-2.06-.94L8.5 2.5l-.94 2.06-2.06.94zm10 10l.94 2.06.94-2.06 2.06-.94-2.06-.94-.94-2.06-.94 2.06-2.06.94z\"/><path d=\"M17.41 7.96l-1.37-1.37c-.4-.4-.92-.59-1.43-.59-.52 0-1.04.2-1.43.59L10.3 9.45l-7.72 7.72c-.78.78-.78 2.05 0 2.83L4 21.41c.39.39.9.59 1.41.59.51 0 1.02-.2 1.41-.59l7.78-7.78 2.81-2.81c.8-.78.8-2.07 0-2.86zM5.41 20L4 18.59l7.72-7.72 1.47 1.35L5.41 20z\"/>\n",
       "  </svg>\n",
       "      </button>\n",
       "      \n",
       "  <style>\n",
       "    .colab-df-container {\n",
       "      display:flex;\n",
       "      flex-wrap:wrap;\n",
       "      gap: 12px;\n",
       "    }\n",
       "\n",
       "    .colab-df-convert {\n",
       "      background-color: #E8F0FE;\n",
       "      border: none;\n",
       "      border-radius: 50%;\n",
       "      cursor: pointer;\n",
       "      display: none;\n",
       "      fill: #1967D2;\n",
       "      height: 32px;\n",
       "      padding: 0 0 0 0;\n",
       "      width: 32px;\n",
       "    }\n",
       "\n",
       "    .colab-df-convert:hover {\n",
       "      background-color: #E2EBFA;\n",
       "      box-shadow: 0px 1px 2px rgba(60, 64, 67, 0.3), 0px 1px 3px 1px rgba(60, 64, 67, 0.15);\n",
       "      fill: #174EA6;\n",
       "    }\n",
       "\n",
       "    [theme=dark] .colab-df-convert {\n",
       "      background-color: #3B4455;\n",
       "      fill: #D2E3FC;\n",
       "    }\n",
       "\n",
       "    [theme=dark] .colab-df-convert:hover {\n",
       "      background-color: #434B5C;\n",
       "      box-shadow: 0px 1px 3px 1px rgba(0, 0, 0, 0.15);\n",
       "      filter: drop-shadow(0px 1px 2px rgba(0, 0, 0, 0.3));\n",
       "      fill: #FFFFFF;\n",
       "    }\n",
       "  </style>\n",
       "\n",
       "      <script>\n",
       "        const buttonEl =\n",
       "          document.querySelector('#df-d2496909-b143-44de-9183-20db634994a3 button.colab-df-convert');\n",
       "        buttonEl.style.display =\n",
       "          google.colab.kernel.accessAllowed ? 'block' : 'none';\n",
       "\n",
       "        async function convertToInteractive(key) {\n",
       "          const element = document.querySelector('#df-d2496909-b143-44de-9183-20db634994a3');\n",
       "          const dataTable =\n",
       "            await google.colab.kernel.invokeFunction('convertToInteractive',\n",
       "                                                     [key], {});\n",
       "          if (!dataTable) return;\n",
       "\n",
       "          const docLinkHtml = 'Like what you see? Visit the ' +\n",
       "            '<a target=\"_blank\" href=https://colab.research.google.com/notebooks/data_table.ipynb>data table notebook</a>'\n",
       "            + ' to learn more about interactive tables.';\n",
       "          element.innerHTML = '';\n",
       "          dataTable['output_type'] = 'display_data';\n",
       "          await google.colab.output.renderOutput(dataTable, element);\n",
       "          const docLink = document.createElement('div');\n",
       "          docLink.innerHTML = docLinkHtml;\n",
       "          element.appendChild(docLink);\n",
       "        }\n",
       "      </script>\n",
       "    </div>\n",
       "  </div>\n",
       "  "
      ],
      "text/plain": [
       "  Health Service Area  Operating Certificate Number  Facility ID Age Group  \\\n",
       "0       New York City                     7002054.0       1458.0   0 to 17   \n",
       "1       New York City                     7002054.0       1458.0   0 to 17   \n",
       "2       New York City                     7002054.0       1464.0   0 to 17   \n",
       "3       Southern Tier                     5401001.0        977.0   0 to 17   \n",
       "4       New York City                     7000014.0       1176.0   0 to 17   \n",
       "\n",
       "  Length of Stay Type of Admission                   Patient Disposition  \\\n",
       "0              2           Newborn                     Home or Self Care   \n",
       "1              4         Emergency  Cancer Center or Children's Hospital   \n",
       "2              2           Newborn                     Home or Self Care   \n",
       "3              2           Newborn                     Home or Self Care   \n",
       "4              3         Emergency                     Home or Self Care   \n",
       "\n",
       "  CCS Procedure Description  APR Severity of Illness Code  \\\n",
       "0              CIRCUMCISION                             1   \n",
       "1    RESP INTUB/MECH VENTIL                             2   \n",
       "2    OPHTHALM-/OT-OLOGIC DX                             1   \n",
       "3   PROPHYLACTIC VAC/INOCUL                             2   \n",
       "4     DIAGNOSTIC SPINAL TAP                             2   \n",
       "\n",
       "  APR Risk of Mortality Source of Payment 1  \n",
       "0                 Minor   Insurance Company  \n",
       "1                 Major   Insurance Company  \n",
       "2                 Minor          Blue Cross  \n",
       "3                 Minor          Blue Cross  \n",
       "4                 Minor            Self-Pay  "
      ]
     },
     "execution_count": 167,
     "metadata": {},
     "output_type": "execute_result"
    }
   ],
   "source": [
    "data.drop(['Hospital County'], axis = 1, inplace = True)\n",
    "data.head()"
   ]
  },
  {
   "cell_type": "code",
   "execution_count": 168,
   "metadata": {
    "colab": {
     "base_uri": "https://localhost:8080/",
     "height": 354
    },
    "id": "PuX1Sg08qaJm",
    "outputId": "6f8ffb1e-db50-4dd1-e75b-63e58d9cb14a"
   },
   "outputs": [
    {
     "data": {
      "text/html": [
       "\n",
       "  <div id=\"df-92ad7c1e-b966-4fb1-a40e-f8e8b2c55531\">\n",
       "    <div class=\"colab-df-container\">\n",
       "      <div>\n",
       "<style scoped>\n",
       "    .dataframe tbody tr th:only-of-type {\n",
       "        vertical-align: middle;\n",
       "    }\n",
       "\n",
       "    .dataframe tbody tr th {\n",
       "        vertical-align: top;\n",
       "    }\n",
       "\n",
       "    .dataframe thead th {\n",
       "        text-align: right;\n",
       "    }\n",
       "</style>\n",
       "<table border=\"1\" class=\"dataframe\">\n",
       "  <thead>\n",
       "    <tr style=\"text-align: right;\">\n",
       "      <th></th>\n",
       "      <th>Health Service Area</th>\n",
       "      <th>Facility ID</th>\n",
       "      <th>Age Group</th>\n",
       "      <th>Length of Stay</th>\n",
       "      <th>Type of Admission</th>\n",
       "      <th>Patient Disposition</th>\n",
       "      <th>CCS Procedure Description</th>\n",
       "      <th>APR Severity of Illness Code</th>\n",
       "      <th>APR Risk of Mortality</th>\n",
       "      <th>Source of Payment 1</th>\n",
       "    </tr>\n",
       "  </thead>\n",
       "  <tbody>\n",
       "    <tr>\n",
       "      <th>0</th>\n",
       "      <td>New York City</td>\n",
       "      <td>1458.0</td>\n",
       "      <td>0 to 17</td>\n",
       "      <td>2</td>\n",
       "      <td>Newborn</td>\n",
       "      <td>Home or Self Care</td>\n",
       "      <td>CIRCUMCISION</td>\n",
       "      <td>1</td>\n",
       "      <td>Minor</td>\n",
       "      <td>Insurance Company</td>\n",
       "    </tr>\n",
       "    <tr>\n",
       "      <th>1</th>\n",
       "      <td>New York City</td>\n",
       "      <td>1458.0</td>\n",
       "      <td>0 to 17</td>\n",
       "      <td>4</td>\n",
       "      <td>Emergency</td>\n",
       "      <td>Cancer Center or Children's Hospital</td>\n",
       "      <td>RESP INTUB/MECH VENTIL</td>\n",
       "      <td>2</td>\n",
       "      <td>Major</td>\n",
       "      <td>Insurance Company</td>\n",
       "    </tr>\n",
       "    <tr>\n",
       "      <th>2</th>\n",
       "      <td>New York City</td>\n",
       "      <td>1464.0</td>\n",
       "      <td>0 to 17</td>\n",
       "      <td>2</td>\n",
       "      <td>Newborn</td>\n",
       "      <td>Home or Self Care</td>\n",
       "      <td>OPHTHALM-/OT-OLOGIC DX</td>\n",
       "      <td>1</td>\n",
       "      <td>Minor</td>\n",
       "      <td>Blue Cross</td>\n",
       "    </tr>\n",
       "    <tr>\n",
       "      <th>3</th>\n",
       "      <td>Southern Tier</td>\n",
       "      <td>977.0</td>\n",
       "      <td>0 to 17</td>\n",
       "      <td>2</td>\n",
       "      <td>Newborn</td>\n",
       "      <td>Home or Self Care</td>\n",
       "      <td>PROPHYLACTIC VAC/INOCUL</td>\n",
       "      <td>2</td>\n",
       "      <td>Minor</td>\n",
       "      <td>Blue Cross</td>\n",
       "    </tr>\n",
       "    <tr>\n",
       "      <th>4</th>\n",
       "      <td>New York City</td>\n",
       "      <td>1176.0</td>\n",
       "      <td>0 to 17</td>\n",
       "      <td>3</td>\n",
       "      <td>Emergency</td>\n",
       "      <td>Home or Self Care</td>\n",
       "      <td>DIAGNOSTIC SPINAL TAP</td>\n",
       "      <td>2</td>\n",
       "      <td>Minor</td>\n",
       "      <td>Self-Pay</td>\n",
       "    </tr>\n",
       "  </tbody>\n",
       "</table>\n",
       "</div>\n",
       "      <button class=\"colab-df-convert\" onclick=\"convertToInteractive('df-92ad7c1e-b966-4fb1-a40e-f8e8b2c55531')\"\n",
       "              title=\"Convert this dataframe to an interactive table.\"\n",
       "              style=\"display:none;\">\n",
       "        \n",
       "  <svg xmlns=\"http://www.w3.org/2000/svg\" height=\"24px\"viewBox=\"0 0 24 24\"\n",
       "       width=\"24px\">\n",
       "    <path d=\"M0 0h24v24H0V0z\" fill=\"none\"/>\n",
       "    <path d=\"M18.56 5.44l.94 2.06.94-2.06 2.06-.94-2.06-.94-.94-2.06-.94 2.06-2.06.94zm-11 1L8.5 8.5l.94-2.06 2.06-.94-2.06-.94L8.5 2.5l-.94 2.06-2.06.94zm10 10l.94 2.06.94-2.06 2.06-.94-2.06-.94-.94-2.06-.94 2.06-2.06.94z\"/><path d=\"M17.41 7.96l-1.37-1.37c-.4-.4-.92-.59-1.43-.59-.52 0-1.04.2-1.43.59L10.3 9.45l-7.72 7.72c-.78.78-.78 2.05 0 2.83L4 21.41c.39.39.9.59 1.41.59.51 0 1.02-.2 1.41-.59l7.78-7.78 2.81-2.81c.8-.78.8-2.07 0-2.86zM5.41 20L4 18.59l7.72-7.72 1.47 1.35L5.41 20z\"/>\n",
       "  </svg>\n",
       "      </button>\n",
       "      \n",
       "  <style>\n",
       "    .colab-df-container {\n",
       "      display:flex;\n",
       "      flex-wrap:wrap;\n",
       "      gap: 12px;\n",
       "    }\n",
       "\n",
       "    .colab-df-convert {\n",
       "      background-color: #E8F0FE;\n",
       "      border: none;\n",
       "      border-radius: 50%;\n",
       "      cursor: pointer;\n",
       "      display: none;\n",
       "      fill: #1967D2;\n",
       "      height: 32px;\n",
       "      padding: 0 0 0 0;\n",
       "      width: 32px;\n",
       "    }\n",
       "\n",
       "    .colab-df-convert:hover {\n",
       "      background-color: #E2EBFA;\n",
       "      box-shadow: 0px 1px 2px rgba(60, 64, 67, 0.3), 0px 1px 3px 1px rgba(60, 64, 67, 0.15);\n",
       "      fill: #174EA6;\n",
       "    }\n",
       "\n",
       "    [theme=dark] .colab-df-convert {\n",
       "      background-color: #3B4455;\n",
       "      fill: #D2E3FC;\n",
       "    }\n",
       "\n",
       "    [theme=dark] .colab-df-convert:hover {\n",
       "      background-color: #434B5C;\n",
       "      box-shadow: 0px 1px 3px 1px rgba(0, 0, 0, 0.15);\n",
       "      filter: drop-shadow(0px 1px 2px rgba(0, 0, 0, 0.3));\n",
       "      fill: #FFFFFF;\n",
       "    }\n",
       "  </style>\n",
       "\n",
       "      <script>\n",
       "        const buttonEl =\n",
       "          document.querySelector('#df-92ad7c1e-b966-4fb1-a40e-f8e8b2c55531 button.colab-df-convert');\n",
       "        buttonEl.style.display =\n",
       "          google.colab.kernel.accessAllowed ? 'block' : 'none';\n",
       "\n",
       "        async function convertToInteractive(key) {\n",
       "          const element = document.querySelector('#df-92ad7c1e-b966-4fb1-a40e-f8e8b2c55531');\n",
       "          const dataTable =\n",
       "            await google.colab.kernel.invokeFunction('convertToInteractive',\n",
       "                                                     [key], {});\n",
       "          if (!dataTable) return;\n",
       "\n",
       "          const docLinkHtml = 'Like what you see? Visit the ' +\n",
       "            '<a target=\"_blank\" href=https://colab.research.google.com/notebooks/data_table.ipynb>data table notebook</a>'\n",
       "            + ' to learn more about interactive tables.';\n",
       "          element.innerHTML = '';\n",
       "          dataTable['output_type'] = 'display_data';\n",
       "          await google.colab.output.renderOutput(dataTable, element);\n",
       "          const docLink = document.createElement('div');\n",
       "          docLink.innerHTML = docLinkHtml;\n",
       "          element.appendChild(docLink);\n",
       "        }\n",
       "      </script>\n",
       "    </div>\n",
       "  </div>\n",
       "  "
      ],
      "text/plain": [
       "  Health Service Area  Facility ID Age Group Length of Stay Type of Admission  \\\n",
       "0       New York City       1458.0   0 to 17              2           Newborn   \n",
       "1       New York City       1458.0   0 to 17              4         Emergency   \n",
       "2       New York City       1464.0   0 to 17              2           Newborn   \n",
       "3       Southern Tier        977.0   0 to 17              2           Newborn   \n",
       "4       New York City       1176.0   0 to 17              3         Emergency   \n",
       "\n",
       "                    Patient Disposition CCS Procedure Description  \\\n",
       "0                     Home or Self Care              CIRCUMCISION   \n",
       "1  Cancer Center or Children's Hospital    RESP INTUB/MECH VENTIL   \n",
       "2                     Home or Self Care    OPHTHALM-/OT-OLOGIC DX   \n",
       "3                     Home or Self Care   PROPHYLACTIC VAC/INOCUL   \n",
       "4                     Home or Self Care     DIAGNOSTIC SPINAL TAP   \n",
       "\n",
       "   APR Severity of Illness Code APR Risk of Mortality Source of Payment 1  \n",
       "0                             1                 Minor   Insurance Company  \n",
       "1                             2                 Major   Insurance Company  \n",
       "2                             1                 Minor          Blue Cross  \n",
       "3                             2                 Minor          Blue Cross  \n",
       "4                             2                 Minor            Self-Pay  "
      ]
     },
     "execution_count": 168,
     "metadata": {},
     "output_type": "execute_result"
    }
   ],
   "source": [
    "data.drop(['Operating Certificate Number'], axis = 1, inplace = True)\n",
    "data.head()"
   ]
  },
  {
   "cell_type": "code",
   "execution_count": 169,
   "metadata": {
    "colab": {
     "base_uri": "https://localhost:8080/"
    },
    "id": "ssa6wRav3Am6",
    "outputId": "a55459af-06bb-4910-c392-d0d05511d08e"
   },
   "outputs": [
    {
     "name": "stdout",
     "output_type": "stream",
     "text": [
      "dimension of sparcs data: (19999, 10)\n"
     ]
    }
   ],
   "source": [
    "print(\"dimension of sparcs data: {}\".format(data.shape))"
   ]
  },
  {
   "cell_type": "code",
   "execution_count": 170,
   "metadata": {
    "colab": {
     "base_uri": "https://localhost:8080/"
    },
    "id": "CD5oc-A7lbjz",
    "outputId": "826f261a-c1e8-4c3b-d161-deeb00612e7b"
   },
   "outputs": [
    {
     "data": {
      "text/plain": [
       "Health Service Area             5\n",
       "Facility ID                     5\n",
       "Age Group                       0\n",
       "Length of Stay                  0\n",
       "Type of Admission               0\n",
       "Patient Disposition             4\n",
       "CCS Procedure Description       0\n",
       "APR Severity of Illness Code    0\n",
       "APR Risk of Mortality           3\n",
       "Source of Payment 1             0\n",
       "dtype: int64"
      ]
     },
     "execution_count": 170,
     "metadata": {},
     "output_type": "execute_result"
    }
   ],
   "source": [
    "data.isnull().sum()"
   ]
  },
  {
   "cell_type": "code",
   "execution_count": 171,
   "metadata": {
    "id": "vya_6DkgzH8l"
   },
   "outputs": [],
   "source": [
    "data = data.dropna(subset=['Health Service Area','APR Risk of Mortality','Facility ID','Patient Disposition'])"
   ]
  },
  {
   "cell_type": "code",
   "execution_count": 172,
   "metadata": {
    "colab": {
     "base_uri": "https://localhost:8080/"
    },
    "id": "9RTOTVQ1UpGt",
    "outputId": "112624f1-c109-4893-b0f1-a5aec0d2dff7"
   },
   "outputs": [
    {
     "data": {
      "text/plain": [
       "Health Service Area             0\n",
       "Facility ID                     0\n",
       "Age Group                       0\n",
       "Length of Stay                  0\n",
       "Type of Admission               0\n",
       "Patient Disposition             0\n",
       "CCS Procedure Description       0\n",
       "APR Severity of Illness Code    0\n",
       "APR Risk of Mortality           0\n",
       "Source of Payment 1             0\n",
       "dtype: int64"
      ]
     },
     "execution_count": 172,
     "metadata": {},
     "output_type": "execute_result"
    }
   ],
   "source": [
    "data.isnull().sum()"
   ]
  },
  {
   "cell_type": "code",
   "execution_count": 173,
   "metadata": {
    "colab": {
     "base_uri": "https://localhost:8080/"
    },
    "id": "icFmuga0tdvp",
    "outputId": "7b414cc9-7413-46aa-f2c9-5ec080a0ddd7"
   },
   "outputs": [
    {
     "name": "stdout",
     "output_type": "stream",
     "text": [
      "APR Severity of Illness Code\n",
      "1    14192\n",
      "2     4206\n",
      "3     1327\n",
      "4      262\n",
      "dtype: int64\n"
     ]
    }
   ],
   "source": [
    "print(data.groupby('APR Severity of Illness Code').size())"
   ]
  },
  {
   "cell_type": "code",
   "execution_count": 174,
   "metadata": {
    "colab": {
     "base_uri": "https://localhost:8080/",
     "height": 449
    },
    "id": "G5t3VuVstdsu",
    "outputId": "c9f93b1d-f844-4990-fc60-0cc45210f0d3"
   },
   "outputs": [
    {
     "data": {
      "image/png": "[encoded data removed]",
      "text/plain": [
       "<Figure size 640x480 with 1 Axes>"
      ]
     },
     "metadata": {},
     "output_type": "display_data"
    }
   ],
   "source": [
    "import seaborn as sns\n",
    "sns.countplot(data=data, x='APR Severity of Illness Code', label='Illness Code Count')\n",
    "plt.show()"
   ]
  },
  {
   "cell_type": "code",
   "execution_count": 175,
   "metadata": {
    "colab": {
     "base_uri": "https://localhost:8080/"
    },
    "id": "0hYR-3x4tdqE",
    "outputId": "4b411748-b340-4a0d-abcf-26d5c2aacca8"
   },
   "outputs": [
    {
     "data": {
      "text/plain": [
       "(19987, 10)"
      ]
     },
     "execution_count": 175,
     "metadata": {},
     "output_type": "execute_result"
    }
   ],
   "source": [
    "data.shape"
   ]
  },
  {
   "cell_type": "code",
   "execution_count": 176,
   "metadata": {
    "colab": {
     "base_uri": "https://localhost:8080/"
    },
    "id": "ngK0KSMOQAiE",
    "outputId": "21cc1188-9840-4b2a-a190-b6b2624ed811"
   },
   "outputs": [
    {
     "name": "stdout",
     "output_type": "stream",
     "text": [
      "<class 'pandas.core.frame.DataFrame'>\n",
      "Int64Index: 19987 entries, 0 to 19998\n",
      "Data columns (total 10 columns):\n",
      " #   Column                        Non-Null Count  Dtype  \n",
      "---  ------                        --------------  -----  \n",
      " 0   Health Service Area           19987 non-null  object \n",
      " 1   Facility ID                   19987 non-null  float64\n",
      " 2   Age Group                     19987 non-null  object \n",
      " 3   Length of Stay                19987 non-null  object \n",
      " 4   Type of Admission             19987 non-null  object \n",
      " 5   Patient Disposition           19987 non-null  object \n",
      " 6   CCS Procedure Description     19987 non-null  object \n",
      " 7   APR Severity of Illness Code  19987 non-null  int64  \n",
      " 8   APR Risk of Mortality         19987 non-null  object \n",
      " 9   Source of Payment 1           19987 non-null  object \n",
      "dtypes: float64(1), int64(1), object(8)\n",
      "memory usage: 1.7+ MB\n"
     ]
    }
   ],
   "source": [
    "data.info()"
   ]
  },
  {
   "cell_type": "code",
   "execution_count": 177,
   "metadata": {
    "colab": {
     "base_uri": "https://localhost:8080/"
    },
    "id": "rprpId7bepPO",
    "outputId": "f44587bf-35c0-42ea-b976-15808f78251c"
   },
   "outputs": [
    {
     "data": {
      "text/plain": [
       "Health Service Area             [New York City, Southern Tier, Hudson Valley, ...\n",
       "Facility ID                     [1458.0, 1464.0, 977.0, 1176.0, 1302.0, 1306.0...\n",
       "Age Group                       [0 to 17, 18 to 29, 30 to 49, 70 or Older, 50 ...\n",
       "Length of Stay                  [2, 4, 3, 15, 1, 35, 5, 8, 6, 16, 7, 23, 11, 2...\n",
       "Type of Admission               [Newborn, Emergency, Elective, Urgent, Not Ava...\n",
       "Patient Disposition             [Home or Self Care, Cancer Center or Children'...\n",
       "CCS Procedure Description       [CIRCUMCISION, RESP INTUB/MECH VENTIL, OPHTHAL...\n",
       "APR Severity of Illness Code                                         [1, 2, 3, 4]\n",
       "APR Risk of Mortality                           [Minor, Major, Moderate, Extreme]\n",
       "Source of Payment 1             [Insurance Company, Blue Cross, Self-Pay, Medi...\n",
       "dtype: object"
      ]
     },
     "execution_count": 177,
     "metadata": {},
     "output_type": "execute_result"
    }
   ],
   "source": [
    "data.apply(lambda cols : cols.unique() )"
   ]
  },
  {
   "cell_type": "code",
   "execution_count": 178,
   "metadata": {
    "colab": {
     "base_uri": "https://localhost:8080/"
    },
    "id": "7Qj7qdbQQ8ak",
    "outputId": "f39112e7-4aea-4a54-d755-3fb160994193"
   },
   "outputs": [
    {
     "data": {
      "text/plain": [
       "(19987, 10)"
      ]
     },
     "execution_count": 178,
     "metadata": {},
     "output_type": "execute_result"
    }
   ],
   "source": [
    "data.shape"
   ]
  },
  {
   "cell_type": "code",
   "execution_count": 179,
   "metadata": {
    "colab": {
     "base_uri": "https://localhost:8080/",
     "height": 111
    },
    "id": "fpPV0lacfcHP",
    "outputId": "89af6443-fc37-43f5-9e02-499aa247a10b"
   },
   "outputs": [
    {
     "data": {
      "text/html": [
       "\n",
       "  <div id=\"df-c3c7b7f2-16dd-49c5-877d-65f884abfe34\">\n",
       "    <div class=\"colab-df-container\">\n",
       "      <div>\n",
       "<style scoped>\n",
       "    .dataframe tbody tr th:only-of-type {\n",
       "        vertical-align: middle;\n",
       "    }\n",
       "\n",
       "    .dataframe tbody tr th {\n",
       "        vertical-align: top;\n",
       "    }\n",
       "\n",
       "    .dataframe thead th {\n",
       "        text-align: right;\n",
       "    }\n",
       "</style>\n",
       "<table border=\"1\" class=\"dataframe\">\n",
       "  <thead>\n",
       "    <tr style=\"text-align: right;\">\n",
       "      <th></th>\n",
       "      <th>Health Service Area</th>\n",
       "      <th>Facility ID</th>\n",
       "      <th>Age Group</th>\n",
       "      <th>Length of Stay</th>\n",
       "      <th>Type of Admission</th>\n",
       "      <th>Patient Disposition</th>\n",
       "      <th>CCS Procedure Description</th>\n",
       "      <th>APR Severity of Illness Code</th>\n",
       "      <th>APR Risk of Mortality</th>\n",
       "      <th>Source of Payment 1</th>\n",
       "    </tr>\n",
       "  </thead>\n",
       "  <tbody>\n",
       "  </tbody>\n",
       "</table>\n",
       "</div>\n",
       "      <button class=\"colab-df-convert\" onclick=\"convertToInteractive('df-c3c7b7f2-16dd-49c5-877d-65f884abfe34')\"\n",
       "              title=\"Convert this dataframe to an interactive table.\"\n",
       "              style=\"display:none;\">\n",
       "        \n",
       "  <svg xmlns=\"http://www.w3.org/2000/svg\" height=\"24px\"viewBox=\"0 0 24 24\"\n",
       "       width=\"24px\">\n",
       "    <path d=\"M0 0h24v24H0V0z\" fill=\"none\"/>\n",
       "    <path d=\"M18.56 5.44l.94 2.06.94-2.06 2.06-.94-2.06-.94-.94-2.06-.94 2.06-2.06.94zm-11 1L8.5 8.5l.94-2.06 2.06-.94-2.06-.94L8.5 2.5l-.94 2.06-2.06.94zm10 10l.94 2.06.94-2.06 2.06-.94-2.06-.94-.94-2.06-.94 2.06-2.06.94z\"/><path d=\"M17.41 7.96l-1.37-1.37c-.4-.4-.92-.59-1.43-.59-.52 0-1.04.2-1.43.59L10.3 9.45l-7.72 7.72c-.78.78-.78 2.05 0 2.83L4 21.41c.39.39.9.59 1.41.59.51 0 1.02-.2 1.41-.59l7.78-7.78 2.81-2.81c.8-.78.8-2.07 0-2.86zM5.41 20L4 18.59l7.72-7.72 1.47 1.35L5.41 20z\"/>\n",
       "  </svg>\n",
       "      </button>\n",
       "      \n",
       "  <style>\n",
       "    .colab-df-container {\n",
       "      display:flex;\n",
       "      flex-wrap:wrap;\n",
       "      gap: 12px;\n",
       "    }\n",
       "\n",
       "    .colab-df-convert {\n",
       "      background-color: #E8F0FE;\n",
       "      border: none;\n",
       "      border-radius: 50%;\n",
       "      cursor: pointer;\n",
       "      display: none;\n",
       "      fill: #1967D2;\n",
       "      height: 32px;\n",
       "      padding: 0 0 0 0;\n",
       "      width: 32px;\n",
       "    }\n",
       "\n",
       "    .colab-df-convert:hover {\n",
       "      background-color: #E2EBFA;\n",
       "      box-shadow: 0px 1px 2px rgba(60, 64, 67, 0.3), 0px 1px 3px 1px rgba(60, 64, 67, 0.15);\n",
       "      fill: #174EA6;\n",
       "    }\n",
       "\n",
       "    [theme=dark] .colab-df-convert {\n",
       "      background-color: #3B4455;\n",
       "      fill: #D2E3FC;\n",
       "    }\n",
       "\n",
       "    [theme=dark] .colab-df-convert:hover {\n",
       "      background-color: #434B5C;\n",
       "      box-shadow: 0px 1px 3px 1px rgba(0, 0, 0, 0.15);\n",
       "      filter: drop-shadow(0px 1px 2px rgba(0, 0, 0, 0.3));\n",
       "      fill: #FFFFFF;\n",
       "    }\n",
       "  </style>\n",
       "\n",
       "      <script>\n",
       "        const buttonEl =\n",
       "          document.querySelector('#df-c3c7b7f2-16dd-49c5-877d-65f884abfe34 button.colab-df-convert');\n",
       "        buttonEl.style.display =\n",
       "          google.colab.kernel.accessAllowed ? 'block' : 'none';\n",
       "\n",
       "        async function convertToInteractive(key) {\n",
       "          const element = document.querySelector('#df-c3c7b7f2-16dd-49c5-877d-65f884abfe34');\n",
       "          const dataTable =\n",
       "            await google.colab.kernel.invokeFunction('convertToInteractive',\n",
       "                                                     [key], {});\n",
       "          if (!dataTable) return;\n",
       "\n",
       "          const docLinkHtml = 'Like what you see? Visit the ' +\n",
       "            '<a target=\"_blank\" href=https://colab.research.google.com/notebooks/data_table.ipynb>data table notebook</a>'\n",
       "            + ' to learn more about interactive tables.';\n",
       "          element.innerHTML = '';\n",
       "          dataTable['output_type'] = 'display_data';\n",
       "          await google.colab.output.renderOutput(dataTable, element);\n",
       "          const docLink = document.createElement('div');\n",
       "          docLink.innerHTML = docLinkHtml;\n",
       "          element.appendChild(docLink);\n",
       "        }\n",
       "      </script>\n",
       "    </div>\n",
       "  </div>\n",
       "  "
      ],
      "text/plain": [
       "Empty DataFrame\n",
       "Columns: [Health Service Area, Facility ID, Age Group, Length of Stay, Type of Admission, Patient Disposition, CCS Procedure Description, APR Severity of Illness Code, APR Risk of Mortality, Source of Payment 1]\n",
       "Index: []"
      ]
     },
     "execution_count": 179,
     "metadata": {},
     "output_type": "execute_result"
    }
   ],
   "source": [
    "data[data['Health Service Area']=='nan']"
   ]
  },
  {
   "cell_type": "code",
   "execution_count": 180,
   "metadata": {
    "colab": {
     "base_uri": "https://localhost:8080/"
    },
    "id": "NfgW6jH1q_OG",
    "outputId": "8d03fa8a-c608-4489-e788-e848d1ee7a35"
   },
   "outputs": [
    {
     "data": {
      "text/plain": [
       "0          Newborn\n",
       "1        Emergency\n",
       "2          Newborn\n",
       "3          Newborn\n",
       "4        Emergency\n",
       "           ...    \n",
       "19994      Newborn\n",
       "19995      Newborn\n",
       "19996      Newborn\n",
       "19997      Newborn\n",
       "19998      Newborn\n",
       "Name: Type of Admission, Length: 19987, dtype: object"
      ]
     },
     "execution_count": 180,
     "metadata": {},
     "output_type": "execute_result"
    }
   ],
   "source": [
    "(data[\"Type of Admission\"])"
   ]
  },
  {
   "cell_type": "code",
   "execution_count": 181,
   "metadata": {
    "colab": {
     "base_uri": "https://localhost:8080/",
     "height": 354
    },
    "id": "RZ7a_qYcRHeI",
    "outputId": "6e485fa9-5a2f-49da-dbc2-f6665332482c"
   },
   "outputs": [
    {
     "data": {
      "text/html": [
       "\n",
       "  <div id=\"df-7fb5cf3a-ded2-42b2-8455-572404573bfb\">\n",
       "    <div class=\"colab-df-container\">\n",
       "      <div>\n",
       "<style scoped>\n",
       "    .dataframe tbody tr th:only-of-type {\n",
       "        vertical-align: middle;\n",
       "    }\n",
       "\n",
       "    .dataframe tbody tr th {\n",
       "        vertical-align: top;\n",
       "    }\n",
       "\n",
       "    .dataframe thead th {\n",
       "        text-align: right;\n",
       "    }\n",
       "</style>\n",
       "<table border=\"1\" class=\"dataframe\">\n",
       "  <thead>\n",
       "    <tr style=\"text-align: right;\">\n",
       "      <th></th>\n",
       "      <th>Health Service Area</th>\n",
       "      <th>Facility ID</th>\n",
       "      <th>Age Group</th>\n",
       "      <th>Length of Stay</th>\n",
       "      <th>Type of Admission</th>\n",
       "      <th>Patient Disposition</th>\n",
       "      <th>CCS Procedure Description</th>\n",
       "      <th>APR Severity of Illness Code</th>\n",
       "      <th>APR Risk of Mortality</th>\n",
       "      <th>Source of Payment 1</th>\n",
       "    </tr>\n",
       "  </thead>\n",
       "  <tbody>\n",
       "    <tr>\n",
       "      <th>0</th>\n",
       "      <td>New York City</td>\n",
       "      <td>1458.0</td>\n",
       "      <td>0 to 17</td>\n",
       "      <td>2</td>\n",
       "      <td>Newborn</td>\n",
       "      <td>Home or Self Care</td>\n",
       "      <td>CIRCUMCISION</td>\n",
       "      <td>1</td>\n",
       "      <td>Minor</td>\n",
       "      <td>Insurance Company</td>\n",
       "    </tr>\n",
       "    <tr>\n",
       "      <th>1</th>\n",
       "      <td>New York City</td>\n",
       "      <td>1458.0</td>\n",
       "      <td>0 to 17</td>\n",
       "      <td>4</td>\n",
       "      <td>Emergency</td>\n",
       "      <td>Cancer Center or Children's Hospital</td>\n",
       "      <td>RESP INTUB/MECH VENTIL</td>\n",
       "      <td>2</td>\n",
       "      <td>Major</td>\n",
       "      <td>Insurance Company</td>\n",
       "    </tr>\n",
       "    <tr>\n",
       "      <th>2</th>\n",
       "      <td>New York City</td>\n",
       "      <td>1464.0</td>\n",
       "      <td>0 to 17</td>\n",
       "      <td>2</td>\n",
       "      <td>Newborn</td>\n",
       "      <td>Home or Self Care</td>\n",
       "      <td>OPHTHALM-/OT-OLOGIC DX</td>\n",
       "      <td>1</td>\n",
       "      <td>Minor</td>\n",
       "      <td>Blue Cross</td>\n",
       "    </tr>\n",
       "    <tr>\n",
       "      <th>3</th>\n",
       "      <td>Southern Tier</td>\n",
       "      <td>977.0</td>\n",
       "      <td>0 to 17</td>\n",
       "      <td>2</td>\n",
       "      <td>Newborn</td>\n",
       "      <td>Home or Self Care</td>\n",
       "      <td>PROPHYLACTIC VAC/INOCUL</td>\n",
       "      <td>2</td>\n",
       "      <td>Minor</td>\n",
       "      <td>Blue Cross</td>\n",
       "    </tr>\n",
       "    <tr>\n",
       "      <th>4</th>\n",
       "      <td>New York City</td>\n",
       "      <td>1176.0</td>\n",
       "      <td>0 to 17</td>\n",
       "      <td>3</td>\n",
       "      <td>Emergency</td>\n",
       "      <td>Home or Self Care</td>\n",
       "      <td>DIAGNOSTIC SPINAL TAP</td>\n",
       "      <td>2</td>\n",
       "      <td>Minor</td>\n",
       "      <td>Self-Pay</td>\n",
       "    </tr>\n",
       "  </tbody>\n",
       "</table>\n",
       "</div>\n",
       "      <button class=\"colab-df-convert\" onclick=\"convertToInteractive('df-7fb5cf3a-ded2-42b2-8455-572404573bfb')\"\n",
       "              title=\"Convert this dataframe to an interactive table.\"\n",
       "              style=\"display:none;\">\n",
       "        \n",
       "  <svg xmlns=\"http://www.w3.org/2000/svg\" height=\"24px\"viewBox=\"0 0 24 24\"\n",
       "       width=\"24px\">\n",
       "    <path d=\"M0 0h24v24H0V0z\" fill=\"none\"/>\n",
       "    <path d=\"M18.56 5.44l.94 2.06.94-2.06 2.06-.94-2.06-.94-.94-2.06-.94 2.06-2.06.94zm-11 1L8.5 8.5l.94-2.06 2.06-.94-2.06-.94L8.5 2.5l-.94 2.06-2.06.94zm10 10l.94 2.06.94-2.06 2.06-.94-2.06-.94-.94-2.06-.94 2.06-2.06.94z\"/><path d=\"M17.41 7.96l-1.37-1.37c-.4-.4-.92-.59-1.43-.59-.52 0-1.04.2-1.43.59L10.3 9.45l-7.72 7.72c-.78.78-.78 2.05 0 2.83L4 21.41c.39.39.9.59 1.41.59.51 0 1.02-.2 1.41-.59l7.78-7.78 2.81-2.81c.8-.78.8-2.07 0-2.86zM5.41 20L4 18.59l7.72-7.72 1.47 1.35L5.41 20z\"/>\n",
       "  </svg>\n",
       "      </button>\n",
       "      \n",
       "  <style>\n",
       "    .colab-df-container {\n",
       "      display:flex;\n",
       "      flex-wrap:wrap;\n",
       "      gap: 12px;\n",
       "    }\n",
       "\n",
       "    .colab-df-convert {\n",
       "      background-color: #E8F0FE;\n",
       "      border: none;\n",
       "      border-radius: 50%;\n",
       "      cursor: pointer;\n",
       "      display: none;\n",
       "      fill: #1967D2;\n",
       "      height: 32px;\n",
       "      padding: 0 0 0 0;\n",
       "      width: 32px;\n",
       "    }\n",
       "\n",
       "    .colab-df-convert:hover {\n",
       "      background-color: #E2EBFA;\n",
       "      box-shadow: 0px 1px 2px rgba(60, 64, 67, 0.3), 0px 1px 3px 1px rgba(60, 64, 67, 0.15);\n",
       "      fill: #174EA6;\n",
       "    }\n",
       "\n",
       "    [theme=dark] .colab-df-convert {\n",
       "      background-color: #3B4455;\n",
       "      fill: #D2E3FC;\n",
       "    }\n",
       "\n",
       "    [theme=dark] .colab-df-convert:hover {\n",
       "      background-color: #434B5C;\n",
       "      box-shadow: 0px 1px 3px 1px rgba(0, 0, 0, 0.15);\n",
       "      filter: drop-shadow(0px 1px 2px rgba(0, 0, 0, 0.3));\n",
       "      fill: #FFFFFF;\n",
       "    }\n",
       "  </style>\n",
       "\n",
       "      <script>\n",
       "        const buttonEl =\n",
       "          document.querySelector('#df-7fb5cf3a-ded2-42b2-8455-572404573bfb button.colab-df-convert');\n",
       "        buttonEl.style.display =\n",
       "          google.colab.kernel.accessAllowed ? 'block' : 'none';\n",
       "\n",
       "        async function convertToInteractive(key) {\n",
       "          const element = document.querySelector('#df-7fb5cf3a-ded2-42b2-8455-572404573bfb');\n",
       "          const dataTable =\n",
       "            await google.colab.kernel.invokeFunction('convertToInteractive',\n",
       "                                                     [key], {});\n",
       "          if (!dataTable) return;\n",
       "\n",
       "          const docLinkHtml = 'Like what you see? Visit the ' +\n",
       "            '<a target=\"_blank\" href=https://colab.research.google.com/notebooks/data_table.ipynb>data table notebook</a>'\n",
       "            + ' to learn more about interactive tables.';\n",
       "          element.innerHTML = '';\n",
       "          dataTable['output_type'] = 'display_data';\n",
       "          await google.colab.output.renderOutput(dataTable, element);\n",
       "          const docLink = document.createElement('div');\n",
       "          docLink.innerHTML = docLinkHtml;\n",
       "          element.appendChild(docLink);\n",
       "        }\n",
       "      </script>\n",
       "    </div>\n",
       "  </div>\n",
       "  "
      ],
      "text/plain": [
       "  Health Service Area  Facility ID Age Group Length of Stay Type of Admission  \\\n",
       "0       New York City       1458.0   0 to 17              2           Newborn   \n",
       "1       New York City       1458.0   0 to 17              4         Emergency   \n",
       "2       New York City       1464.0   0 to 17              2           Newborn   \n",
       "3       Southern Tier        977.0   0 to 17              2           Newborn   \n",
       "4       New York City       1176.0   0 to 17              3         Emergency   \n",
       "\n",
       "                    Patient Disposition CCS Procedure Description  \\\n",
       "0                     Home or Self Care              CIRCUMCISION   \n",
       "1  Cancer Center or Children's Hospital    RESP INTUB/MECH VENTIL   \n",
       "2                     Home or Self Care    OPHTHALM-/OT-OLOGIC DX   \n",
       "3                     Home or Self Care   PROPHYLACTIC VAC/INOCUL   \n",
       "4                     Home or Self Care     DIAGNOSTIC SPINAL TAP   \n",
       "\n",
       "   APR Severity of Illness Code APR Risk of Mortality Source of Payment 1  \n",
       "0                             1                 Minor   Insurance Company  \n",
       "1                             2                 Major   Insurance Company  \n",
       "2                             1                 Minor          Blue Cross  \n",
       "3                             2                 Minor          Blue Cross  \n",
       "4                             2                 Minor            Self-Pay  "
      ]
     },
     "execution_count": 181,
     "metadata": {},
     "output_type": "execute_result"
    }
   ],
   "source": [
    "data.head()"
   ]
  },
  {
   "cell_type": "markdown",
   "metadata": {
    "id": "xRiBHg1zRMB5"
   },
   "source": [
    "### we need to change from string to int by using label encoder"
   ]
  },
  {
   "cell_type": "code",
   "execution_count": 182,
   "metadata": {
    "colab": {
     "base_uri": "https://localhost:8080/"
    },
    "id": "DQMhMoCDRLtg",
    "outputId": "3b73112e-331f-4912-d456-47b0bdcfb012"
   },
   "outputs": [
    {
     "name": "stdout",
     "output_type": "stream",
     "text": [
      "<class 'pandas.core.frame.DataFrame'>\n",
      "Int64Index: 19987 entries, 0 to 19998\n",
      "Data columns (total 10 columns):\n",
      " #   Column                        Non-Null Count  Dtype  \n",
      "---  ------                        --------------  -----  \n",
      " 0   Health Service Area           19987 non-null  object \n",
      " 1   Facility ID                   19987 non-null  float64\n",
      " 2   Age Group                     19987 non-null  object \n",
      " 3   Length of Stay                19987 non-null  object \n",
      " 4   Type of Admission             19987 non-null  object \n",
      " 5   Patient Disposition           19987 non-null  object \n",
      " 6   CCS Procedure Description     19987 non-null  object \n",
      " 7   APR Severity of Illness Code  19987 non-null  int64  \n",
      " 8   APR Risk of Mortality         19987 non-null  object \n",
      " 9   Source of Payment 1           19987 non-null  object \n",
      "dtypes: float64(1), int64(1), object(8)\n",
      "memory usage: 1.7+ MB\n"
     ]
    }
   ],
   "source": [
    "data.info()"
   ]
  },
  {
   "cell_type": "code",
   "execution_count": 183,
   "metadata": {
    "id": "fYk53Rbs0Oae"
   },
   "outputs": [],
   "source": [
    "from sklearn.preprocessing import LabelEncoder\n",
    "le= LabelEncoder()\n",
    "data[\"Age Group\"]=le.fit_transform(data['Age Group'])"
   ]
  },
  {
   "cell_type": "code",
   "execution_count": 184,
   "metadata": {
    "id": "yKoulF_q1mzh"
   },
   "outputs": [],
   "source": [
    "from sklearn.preprocessing import LabelEncoder\n",
    "le= LabelEncoder()\n",
    "data[\"Length of Stay\"]=le.fit_transform(data[\"Length of Stay\"])"
   ]
  },
  {
   "cell_type": "code",
   "execution_count": 185,
   "metadata": {
    "id": "4wDyvwZZ1mq9"
   },
   "outputs": [],
   "source": [
    "from sklearn.preprocessing import LabelEncoder\n",
    "le= LabelEncoder()\n",
    "data[\"Type of Admission\"]=le.fit_transform(data[\"Type of Admission\"])"
   ]
  },
  {
   "cell_type": "code",
   "execution_count": 186,
   "metadata": {
    "id": "5b2xi2i_1miF"
   },
   "outputs": [],
   "source": [
    "from sklearn.preprocessing import LabelEncoder\n",
    "le= LabelEncoder()\n",
    "data[\"Patient Disposition\"]=le.fit_transform(data[\"Patient Disposition\"])"
   ]
  },
  {
   "cell_type": "code",
   "execution_count": 187,
   "metadata": {
    "id": "83klE8U3jQHY"
   },
   "outputs": [],
   "source": [
    "from sklearn.preprocessing import LabelEncoder\n",
    "le= LabelEncoder()\n",
    "data[\"CCS Procedure Description\"]=le.fit_transform(data[\"CCS Procedure Description\"])"
   ]
  },
  {
   "cell_type": "code",
   "execution_count": 188,
   "metadata": {
    "id": "dzoMVxnf25zP"
   },
   "outputs": [],
   "source": [
    "\n",
    "from sklearn.preprocessing import LabelEncoder\n",
    "le= LabelEncoder()\n",
    "data[\"APR Severity of Illness Code\"]=le.fit_transform(data[\"APR Severity of Illness Code\"])"
   ]
  },
  {
   "cell_type": "code",
   "execution_count": 189,
   "metadata": {
    "id": "CDEewdlt254p"
   },
   "outputs": [],
   "source": [
    "\n",
    "from sklearn.preprocessing import LabelEncoder\n",
    "le= LabelEncoder()\n",
    "data[\"APR Risk of Mortality\"]=le.fit_transform(data[\"APR Risk of Mortality\"])"
   ]
  },
  {
   "cell_type": "code",
   "execution_count": 191,
   "metadata": {
    "id": "0Q-Uhx_zxcrf"
   },
   "outputs": [],
   "source": [
    "\n",
    "from sklearn.preprocessing import LabelEncoder\n",
    "le= LabelEncoder()\n",
    "data[\"Health Service Area\"]=le.fit_transform(data[\"Health Service Area\"])"
   ]
  },
  {
   "cell_type": "code",
   "execution_count": 192,
   "metadata": {
    "id": "1wNaBUJI25tb"
   },
   "outputs": [],
   "source": [
    "\n",
    "from sklearn.preprocessing import LabelEncoder\n",
    "le= LabelEncoder()\n",
    "data[\"Source of Payment 1\"]=le.fit_transform(data[\"Source of Payment 1\"])"
   ]
  },
  {
   "cell_type": "markdown",
   "metadata": {
    "id": "Aab5woFIjWXR"
   },
   "source": [
    "### print(\"Here, all encoded values in the data for fitting the model\")"
   ]
  },
  {
   "cell_type": "code",
   "execution_count": 193,
   "metadata": {
    "colab": {
     "base_uri": "https://localhost:8080/",
     "height": 267
    },
    "id": "2lF4P-IGjE-Q",
    "outputId": "ba9eb9a2-bbe8-43ee-d77f-8f2153bfd9d2"
   },
   "outputs": [
    {
     "data": {
      "text/html": [
       "\n",
       "  <div id=\"df-d14369b8-266d-45aa-adfd-5c8afdda3b4f\">\n",
       "    <div class=\"colab-df-container\">\n",
       "      <div>\n",
       "<style scoped>\n",
       "    .dataframe tbody tr th:only-of-type {\n",
       "        vertical-align: middle;\n",
       "    }\n",
       "\n",
       "    .dataframe tbody tr th {\n",
       "        vertical-align: top;\n",
       "    }\n",
       "\n",
       "    .dataframe thead th {\n",
       "        text-align: right;\n",
       "    }\n",
       "</style>\n",
       "<table border=\"1\" class=\"dataframe\">\n",
       "  <thead>\n",
       "    <tr style=\"text-align: right;\">\n",
       "      <th></th>\n",
       "      <th>Health Service Area</th>\n",
       "      <th>Facility ID</th>\n",
       "      <th>Age Group</th>\n",
       "      <th>Length of Stay</th>\n",
       "      <th>Type of Admission</th>\n",
       "      <th>Patient Disposition</th>\n",
       "      <th>CCS Procedure Description</th>\n",
       "      <th>APR Severity of Illness Code</th>\n",
       "      <th>APR Risk of Mortality</th>\n",
       "      <th>Source of Payment 1</th>\n",
       "    </tr>\n",
       "  </thead>\n",
       "  <tbody>\n",
       "    <tr>\n",
       "      <th>0</th>\n",
       "      <td>4</td>\n",
       "      <td>1458.0</td>\n",
       "      <td>0</td>\n",
       "      <td>20</td>\n",
       "      <td>2</td>\n",
       "      <td>5</td>\n",
       "      <td>22</td>\n",
       "      <td>0</td>\n",
       "      <td>2</td>\n",
       "      <td>2</td>\n",
       "    </tr>\n",
       "    <tr>\n",
       "      <th>1</th>\n",
       "      <td>4</td>\n",
       "      <td>1458.0</td>\n",
       "      <td>0</td>\n",
       "      <td>42</td>\n",
       "      <td>1</td>\n",
       "      <td>1</td>\n",
       "      <td>171</td>\n",
       "      <td>1</td>\n",
       "      <td>1</td>\n",
       "      <td>2</td>\n",
       "    </tr>\n",
       "    <tr>\n",
       "      <th>2</th>\n",
       "      <td>4</td>\n",
       "      <td>1464.0</td>\n",
       "      <td>0</td>\n",
       "      <td>20</td>\n",
       "      <td>2</td>\n",
       "      <td>5</td>\n",
       "      <td>94</td>\n",
       "      <td>0</td>\n",
       "      <td>2</td>\n",
       "      <td>0</td>\n",
       "    </tr>\n",
       "    <tr>\n",
       "      <th>3</th>\n",
       "      <td>5</td>\n",
       "      <td>977.0</td>\n",
       "      <td>0</td>\n",
       "      <td>20</td>\n",
       "      <td>2</td>\n",
       "      <td>5</td>\n",
       "      <td>163</td>\n",
       "      <td>1</td>\n",
       "      <td>2</td>\n",
       "      <td>0</td>\n",
       "    </tr>\n",
       "    <tr>\n",
       "      <th>4</th>\n",
       "      <td>4</td>\n",
       "      <td>1176.0</td>\n",
       "      <td>0</td>\n",
       "      <td>31</td>\n",
       "      <td>1</td>\n",
       "      <td>5</td>\n",
       "      <td>32</td>\n",
       "      <td>1</td>\n",
       "      <td>2</td>\n",
       "      <td>7</td>\n",
       "    </tr>\n",
       "  </tbody>\n",
       "</table>\n",
       "</div>\n",
       "      <button class=\"colab-df-convert\" onclick=\"convertToInteractive('df-d14369b8-266d-45aa-adfd-5c8afdda3b4f')\"\n",
       "              title=\"Convert this dataframe to an interactive table.\"\n",
       "              style=\"display:none;\">\n",
       "        \n",
       "  <svg xmlns=\"http://www.w3.org/2000/svg\" height=\"24px\"viewBox=\"0 0 24 24\"\n",
       "       width=\"24px\">\n",
       "    <path d=\"M0 0h24v24H0V0z\" fill=\"none\"/>\n",
       "    <path d=\"M18.56 5.44l.94 2.06.94-2.06 2.06-.94-2.06-.94-.94-2.06-.94 2.06-2.06.94zm-11 1L8.5 8.5l.94-2.06 2.06-.94-2.06-.94L8.5 2.5l-.94 2.06-2.06.94zm10 10l.94 2.06.94-2.06 2.06-.94-2.06-.94-.94-2.06-.94 2.06-2.06.94z\"/><path d=\"M17.41 7.96l-1.37-1.37c-.4-.4-.92-.59-1.43-.59-.52 0-1.04.2-1.43.59L10.3 9.45l-7.72 7.72c-.78.78-.78 2.05 0 2.83L4 21.41c.39.39.9.59 1.41.59.51 0 1.02-.2 1.41-.59l7.78-7.78 2.81-2.81c.8-.78.8-2.07 0-2.86zM5.41 20L4 18.59l7.72-7.72 1.47 1.35L5.41 20z\"/>\n",
       "  </svg>\n",
       "      </button>\n",
       "      \n",
       "  <style>\n",
       "    .colab-df-container {\n",
       "      display:flex;\n",
       "      flex-wrap:wrap;\n",
       "      gap: 12px;\n",
       "    }\n",
       "\n",
       "    .colab-df-convert {\n",
       "      background-color: #E8F0FE;\n",
       "      border: none;\n",
       "      border-radius: 50%;\n",
       "      cursor: pointer;\n",
       "      display: none;\n",
       "      fill: #1967D2;\n",
       "      height: 32px;\n",
       "      padding: 0 0 0 0;\n",
       "      width: 32px;\n",
       "    }\n",
       "\n",
       "    .colab-df-convert:hover {\n",
       "      background-color: #E2EBFA;\n",
       "      box-shadow: 0px 1px 2px rgba(60, 64, 67, 0.3), 0px 1px 3px 1px rgba(60, 64, 67, 0.15);\n",
       "      fill: #174EA6;\n",
       "    }\n",
       "\n",
       "    [theme=dark] .colab-df-convert {\n",
       "      background-color: #3B4455;\n",
       "      fill: #D2E3FC;\n",
       "    }\n",
       "\n",
       "    [theme=dark] .colab-df-convert:hover {\n",
       "      background-color: #434B5C;\n",
       "      box-shadow: 0px 1px 3px 1px rgba(0, 0, 0, 0.15);\n",
       "      filter: drop-shadow(0px 1px 2px rgba(0, 0, 0, 0.3));\n",
       "      fill: #FFFFFF;\n",
       "    }\n",
       "  </style>\n",
       "\n",
       "      <script>\n",
       "        const buttonEl =\n",
       "          document.querySelector('#df-d14369b8-266d-45aa-adfd-5c8afdda3b4f button.colab-df-convert');\n",
       "        buttonEl.style.display =\n",
       "          google.colab.kernel.accessAllowed ? 'block' : 'none';\n",
       "\n",
       "        async function convertToInteractive(key) {\n",
       "          const element = document.querySelector('#df-d14369b8-266d-45aa-adfd-5c8afdda3b4f');\n",
       "          const dataTable =\n",
       "            await google.colab.kernel.invokeFunction('convertToInteractive',\n",
       "                                                     [key], {});\n",
       "          if (!dataTable) return;\n",
       "\n",
       "          const docLinkHtml = 'Like what you see? Visit the ' +\n",
       "            '<a target=\"_blank\" href=https://colab.research.google.com/notebooks/data_table.ipynb>data table notebook</a>'\n",
       "            + ' to learn more about interactive tables.';\n",
       "          element.innerHTML = '';\n",
       "          dataTable['output_type'] = 'display_data';\n",
       "          await google.colab.output.renderOutput(dataTable, element);\n",
       "          const docLink = document.createElement('div');\n",
       "          docLink.innerHTML = docLinkHtml;\n",
       "          element.appendChild(docLink);\n",
       "        }\n",
       "      </script>\n",
       "    </div>\n",
       "  </div>\n",
       "  "
      ],
      "text/plain": [
       "   Health Service Area  Facility ID  Age Group  Length of Stay  \\\n",
       "0                    4       1458.0          0              20   \n",
       "1                    4       1458.0          0              42   \n",
       "2                    4       1464.0          0              20   \n",
       "3                    5        977.0          0              20   \n",
       "4                    4       1176.0          0              31   \n",
       "\n",
       "   Type of Admission  Patient Disposition  CCS Procedure Description  \\\n",
       "0                  2                    5                         22   \n",
       "1                  1                    1                        171   \n",
       "2                  2                    5                         94   \n",
       "3                  2                    5                        163   \n",
       "4                  1                    5                         32   \n",
       "\n",
       "   APR Severity of Illness Code  APR Risk of Mortality  Source of Payment 1  \n",
       "0                             0                      2                    2  \n",
       "1                             1                      1                    2  \n",
       "2                             0                      2                    0  \n",
       "3                             1                      2                    0  \n",
       "4                             1                      2                    7  "
      ]
     },
     "execution_count": 193,
     "metadata": {},
     "output_type": "execute_result"
    }
   ],
   "source": [
    "data.head()\n"
   ]
  },
  {
   "cell_type": "markdown",
   "metadata": {
    "id": "vnnhnXmdVsY8"
   },
   "source": [
    "## Split the dataset for train model"
   ]
  },
  {
   "cell_type": "code",
   "execution_count": 194,
   "metadata": {
    "id": "i5dADVEIdZ6x"
   },
   "outputs": [],
   "source": [
    "X = data.drop(['Type of Admission'],axis = 1)# independant variable\n",
    "y = data['Type of Admission'] # dependant variable or target variable"
   ]
  },
  {
   "cell_type": "code",
   "execution_count": 195,
   "metadata": {
    "id": "iYMrpnqSkU9f"
   },
   "outputs": [],
   "source": [
    "from sklearn.model_selection import train_test_split\n",
    "\n",
    "X_train,X_test,y_train,y_test = train_test_split(X,y,test_size = 0.2,random_state =38)\n"
   ]
  },
  {
   "cell_type": "code",
   "execution_count": 196,
   "metadata": {
    "colab": {
     "base_uri": "https://localhost:8080/"
    },
    "id": "BGPpKLIijuAh",
    "outputId": "6bf26ab1-2fec-4d68-dc59-096d81627e59"
   },
   "outputs": [
    {
     "name": "stdout",
     "output_type": "stream",
     "text": [
      "Shape of X_train:  (15989, 9)\n",
      "Shape of X_test:  (3998, 9)\n",
      "----------------------------------------\n",
      "Shape of y_train:  (15989,)\n",
      "Shape of y_test:  (3998,)\n"
     ]
    }
   ],
   "source": [
    "print(\"Shape of X_train: \", X_train.shape)\n",
    "print(\"Shape of X_test: \", X_test.shape)\n",
    "print(\"----------------------------------------\")\n",
    "print(\"Shape of y_train: \", y_train.shape)\n",
    "print(\"Shape of y_test: \", y_test.shape)"
   ]
  },
  {
   "cell_type": "code",
   "execution_count": 197,
   "metadata": {
    "colab": {
     "base_uri": "https://localhost:8080/",
     "height": 267
    },
    "id": "3FxGwivJk4GJ",
    "outputId": "38297e36-c7a1-4eb6-c198-19d34d6abd26"
   },
   "outputs": [
    {
     "data": {
      "text/html": [
       "\n",
       "  <div id=\"df-101697b9-30a1-4d09-aa86-5bbd4f3b4390\">\n",
       "    <div class=\"colab-df-container\">\n",
       "      <div>\n",
       "<style scoped>\n",
       "    .dataframe tbody tr th:only-of-type {\n",
       "        vertical-align: middle;\n",
       "    }\n",
       "\n",
       "    .dataframe tbody tr th {\n",
       "        vertical-align: top;\n",
       "    }\n",
       "\n",
       "    .dataframe thead th {\n",
       "        text-align: right;\n",
       "    }\n",
       "</style>\n",
       "<table border=\"1\" class=\"dataframe\">\n",
       "  <thead>\n",
       "    <tr style=\"text-align: right;\">\n",
       "      <th></th>\n",
       "      <th>Health Service Area</th>\n",
       "      <th>Facility ID</th>\n",
       "      <th>Age Group</th>\n",
       "      <th>Length of Stay</th>\n",
       "      <th>Patient Disposition</th>\n",
       "      <th>CCS Procedure Description</th>\n",
       "      <th>APR Severity of Illness Code</th>\n",
       "      <th>APR Risk of Mortality</th>\n",
       "      <th>Source of Payment 1</th>\n",
       "    </tr>\n",
       "  </thead>\n",
       "  <tbody>\n",
       "    <tr>\n",
       "      <th>3368</th>\n",
       "      <td>4</td>\n",
       "      <td>1439.0</td>\n",
       "      <td>0</td>\n",
       "      <td>20</td>\n",
       "      <td>5</td>\n",
       "      <td>91</td>\n",
       "      <td>0</td>\n",
       "      <td>2</td>\n",
       "      <td>2</td>\n",
       "    </tr>\n",
       "    <tr>\n",
       "      <th>5505</th>\n",
       "      <td>4</td>\n",
       "      <td>1458.0</td>\n",
       "      <td>0</td>\n",
       "      <td>0</td>\n",
       "      <td>5</td>\n",
       "      <td>97</td>\n",
       "      <td>0</td>\n",
       "      <td>2</td>\n",
       "      <td>2</td>\n",
       "    </tr>\n",
       "    <tr>\n",
       "      <th>17534</th>\n",
       "      <td>4</td>\n",
       "      <td>3975.0</td>\n",
       "      <td>0</td>\n",
       "      <td>31</td>\n",
       "      <td>5</td>\n",
       "      <td>94</td>\n",
       "      <td>0</td>\n",
       "      <td>2</td>\n",
       "      <td>2</td>\n",
       "    </tr>\n",
       "    <tr>\n",
       "      <th>2250</th>\n",
       "      <td>4</td>\n",
       "      <td>1464.0</td>\n",
       "      <td>0</td>\n",
       "      <td>20</td>\n",
       "      <td>5</td>\n",
       "      <td>163</td>\n",
       "      <td>0</td>\n",
       "      <td>2</td>\n",
       "      <td>3</td>\n",
       "    </tr>\n",
       "    <tr>\n",
       "      <th>552</th>\n",
       "      <td>4</td>\n",
       "      <td>1178.0</td>\n",
       "      <td>2</td>\n",
       "      <td>0</td>\n",
       "      <td>5</td>\n",
       "      <td>91</td>\n",
       "      <td>1</td>\n",
       "      <td>2</td>\n",
       "      <td>3</td>\n",
       "    </tr>\n",
       "  </tbody>\n",
       "</table>\n",
       "</div>\n",
       "      <button class=\"colab-df-convert\" onclick=\"convertToInteractive('df-101697b9-30a1-4d09-aa86-5bbd4f3b4390')\"\n",
       "              title=\"Convert this dataframe to an interactive table.\"\n",
       "              style=\"display:none;\">\n",
       "        \n",
       "  <svg xmlns=\"http://www.w3.org/2000/svg\" height=\"24px\"viewBox=\"0 0 24 24\"\n",
       "       width=\"24px\">\n",
       "    <path d=\"M0 0h24v24H0V0z\" fill=\"none\"/>\n",
       "    <path d=\"M18.56 5.44l.94 2.06.94-2.06 2.06-.94-2.06-.94-.94-2.06-.94 2.06-2.06.94zm-11 1L8.5 8.5l.94-2.06 2.06-.94-2.06-.94L8.5 2.5l-.94 2.06-2.06.94zm10 10l.94 2.06.94-2.06 2.06-.94-2.06-.94-.94-2.06-.94 2.06-2.06.94z\"/><path d=\"M17.41 7.96l-1.37-1.37c-.4-.4-.92-.59-1.43-.59-.52 0-1.04.2-1.43.59L10.3 9.45l-7.72 7.72c-.78.78-.78 2.05 0 2.83L4 21.41c.39.39.9.59 1.41.59.51 0 1.02-.2 1.41-.59l7.78-7.78 2.81-2.81c.8-.78.8-2.07 0-2.86zM5.41 20L4 18.59l7.72-7.72 1.47 1.35L5.41 20z\"/>\n",
       "  </svg>\n",
       "      </button>\n",
       "      \n",
       "  <style>\n",
       "    .colab-df-container {\n",
       "      display:flex;\n",
       "      flex-wrap:wrap;\n",
       "      gap: 12px;\n",
       "    }\n",
       "\n",
       "    .colab-df-convert {\n",
       "      background-color: #E8F0FE;\n",
       "      border: none;\n",
       "      border-radius: 50%;\n",
       "      cursor: pointer;\n",
       "      display: none;\n",
       "      fill: #1967D2;\n",
       "      height: 32px;\n",
       "      padding: 0 0 0 0;\n",
       "      width: 32px;\n",
       "    }\n",
       "\n",
       "    .colab-df-convert:hover {\n",
       "      background-color: #E2EBFA;\n",
       "      box-shadow: 0px 1px 2px rgba(60, 64, 67, 0.3), 0px 1px 3px 1px rgba(60, 64, 67, 0.15);\n",
       "      fill: #174EA6;\n",
       "    }\n",
       "\n",
       "    [theme=dark] .colab-df-convert {\n",
       "      background-color: #3B4455;\n",
       "      fill: #D2E3FC;\n",
       "    }\n",
       "\n",
       "    [theme=dark] .colab-df-convert:hover {\n",
       "      background-color: #434B5C;\n",
       "      box-shadow: 0px 1px 3px 1px rgba(0, 0, 0, 0.15);\n",
       "      filter: drop-shadow(0px 1px 2px rgba(0, 0, 0, 0.3));\n",
       "      fill: #FFFFFF;\n",
       "    }\n",
       "  </style>\n",
       "\n",
       "      <script>\n",
       "        const buttonEl =\n",
       "          document.querySelector('#df-101697b9-30a1-4d09-aa86-5bbd4f3b4390 button.colab-df-convert');\n",
       "        buttonEl.style.display =\n",
       "          google.colab.kernel.accessAllowed ? 'block' : 'none';\n",
       "\n",
       "        async function convertToInteractive(key) {\n",
       "          const element = document.querySelector('#df-101697b9-30a1-4d09-aa86-5bbd4f3b4390');\n",
       "          const dataTable =\n",
       "            await google.colab.kernel.invokeFunction('convertToInteractive',\n",
       "                                                     [key], {});\n",
       "          if (!dataTable) return;\n",
       "\n",
       "          const docLinkHtml = 'Like what you see? Visit the ' +\n",
       "            '<a target=\"_blank\" href=https://colab.research.google.com/notebooks/data_table.ipynb>data table notebook</a>'\n",
       "            + ' to learn more about interactive tables.';\n",
       "          element.innerHTML = '';\n",
       "          dataTable['output_type'] = 'display_data';\n",
       "          await google.colab.output.renderOutput(dataTable, element);\n",
       "          const docLink = document.createElement('div');\n",
       "          docLink.innerHTML = docLinkHtml;\n",
       "          element.appendChild(docLink);\n",
       "        }\n",
       "      </script>\n",
       "    </div>\n",
       "  </div>\n",
       "  "
      ],
      "text/plain": [
       "       Health Service Area  Facility ID  Age Group  Length of Stay  \\\n",
       "3368                     4       1439.0          0              20   \n",
       "5505                     4       1458.0          0               0   \n",
       "17534                    4       3975.0          0              31   \n",
       "2250                     4       1464.0          0              20   \n",
       "552                      4       1178.0          2               0   \n",
       "\n",
       "       Patient Disposition  CCS Procedure Description  \\\n",
       "3368                     5                         91   \n",
       "5505                     5                         97   \n",
       "17534                    5                         94   \n",
       "2250                     5                        163   \n",
       "552                      5                         91   \n",
       "\n",
       "       APR Severity of Illness Code  APR Risk of Mortality  \\\n",
       "3368                              0                      2   \n",
       "5505                              0                      2   \n",
       "17534                             0                      2   \n",
       "2250                              0                      2   \n",
       "552                               1                      2   \n",
       "\n",
       "       Source of Payment 1  \n",
       "3368                     2  \n",
       "5505                     2  \n",
       "17534                    2  \n",
       "2250                     3  \n",
       "552                      3  "
      ]
     },
     "execution_count": 197,
     "metadata": {},
     "output_type": "execute_result"
    }
   ],
   "source": [
    "X_train.head()"
   ]
  },
  {
   "cell_type": "code",
   "execution_count": 199,
   "metadata": {
    "colab": {
     "base_uri": "https://localhost:8080/"
    },
    "id": "i07qgUCXc8oz",
    "outputId": "2cb4979c-4a2d-4243-9750-4ccb25157017"
   },
   "outputs": [
    {
     "data": {
      "text/plain": [
       "3368     2\n",
       "5505     1\n",
       "17534    2\n",
       "2250     2\n",
       "552      4\n",
       "Name: Type of Admission, dtype: int64"
      ]
     },
     "execution_count": 199,
     "metadata": {},
     "output_type": "execute_result"
    }
   ],
   "source": [
    "y_train.head()"
   ]
  },
  {
   "cell_type": "code",
   "execution_count": 198,
   "metadata": {
    "colab": {
     "base_uri": "https://localhost:8080/",
     "height": 267
    },
    "id": "9HVM-gGQxPMf",
    "outputId": "d0e2b7ff-fa37-4442-a5c3-653f0d7d9839"
   },
   "outputs": [
    {
     "data": {
      "text/html": [
       "\n",
       "  <div id=\"df-d7e8b589-e233-4bb5-9306-b37ce25f7bc1\">\n",
       "    <div class=\"colab-df-container\">\n",
       "      <div>\n",
       "<style scoped>\n",
       "    .dataframe tbody tr th:only-of-type {\n",
       "        vertical-align: middle;\n",
       "    }\n",
       "\n",
       "    .dataframe tbody tr th {\n",
       "        vertical-align: top;\n",
       "    }\n",
       "\n",
       "    .dataframe thead th {\n",
       "        text-align: right;\n",
       "    }\n",
       "</style>\n",
       "<table border=\"1\" class=\"dataframe\">\n",
       "  <thead>\n",
       "    <tr style=\"text-align: right;\">\n",
       "      <th></th>\n",
       "      <th>Health Service Area</th>\n",
       "      <th>Facility ID</th>\n",
       "      <th>Age Group</th>\n",
       "      <th>Length of Stay</th>\n",
       "      <th>Type of Admission</th>\n",
       "      <th>Patient Disposition</th>\n",
       "      <th>CCS Procedure Description</th>\n",
       "      <th>APR Severity of Illness Code</th>\n",
       "      <th>APR Risk of Mortality</th>\n",
       "      <th>Source of Payment 1</th>\n",
       "    </tr>\n",
       "  </thead>\n",
       "  <tbody>\n",
       "    <tr>\n",
       "      <th>0</th>\n",
       "      <td>4</td>\n",
       "      <td>1458.0</td>\n",
       "      <td>0</td>\n",
       "      <td>20</td>\n",
       "      <td>2</td>\n",
       "      <td>5</td>\n",
       "      <td>22</td>\n",
       "      <td>0</td>\n",
       "      <td>2</td>\n",
       "      <td>2</td>\n",
       "    </tr>\n",
       "    <tr>\n",
       "      <th>1</th>\n",
       "      <td>4</td>\n",
       "      <td>1458.0</td>\n",
       "      <td>0</td>\n",
       "      <td>42</td>\n",
       "      <td>1</td>\n",
       "      <td>1</td>\n",
       "      <td>171</td>\n",
       "      <td>1</td>\n",
       "      <td>1</td>\n",
       "      <td>2</td>\n",
       "    </tr>\n",
       "    <tr>\n",
       "      <th>2</th>\n",
       "      <td>4</td>\n",
       "      <td>1464.0</td>\n",
       "      <td>0</td>\n",
       "      <td>20</td>\n",
       "      <td>2</td>\n",
       "      <td>5</td>\n",
       "      <td>94</td>\n",
       "      <td>0</td>\n",
       "      <td>2</td>\n",
       "      <td>0</td>\n",
       "    </tr>\n",
       "    <tr>\n",
       "      <th>3</th>\n",
       "      <td>5</td>\n",
       "      <td>977.0</td>\n",
       "      <td>0</td>\n",
       "      <td>20</td>\n",
       "      <td>2</td>\n",
       "      <td>5</td>\n",
       "      <td>163</td>\n",
       "      <td>1</td>\n",
       "      <td>2</td>\n",
       "      <td>0</td>\n",
       "    </tr>\n",
       "    <tr>\n",
       "      <th>4</th>\n",
       "      <td>4</td>\n",
       "      <td>1176.0</td>\n",
       "      <td>0</td>\n",
       "      <td>31</td>\n",
       "      <td>1</td>\n",
       "      <td>5</td>\n",
       "      <td>32</td>\n",
       "      <td>1</td>\n",
       "      <td>2</td>\n",
       "      <td>7</td>\n",
       "    </tr>\n",
       "  </tbody>\n",
       "</table>\n",
       "</div>\n",
       "      <button class=\"colab-df-convert\" onclick=\"convertToInteractive('df-d7e8b589-e233-4bb5-9306-b37ce25f7bc1')\"\n",
       "              title=\"Convert this dataframe to an interactive table.\"\n",
       "              style=\"display:none;\">\n",
       "        \n",
       "  <svg xmlns=\"http://www.w3.org/2000/svg\" height=\"24px\"viewBox=\"0 0 24 24\"\n",
       "       width=\"24px\">\n",
       "    <path d=\"M0 0h24v24H0V0z\" fill=\"none\"/>\n",
       "    <path d=\"M18.56 5.44l.94 2.06.94-2.06 2.06-.94-2.06-.94-.94-2.06-.94 2.06-2.06.94zm-11 1L8.5 8.5l.94-2.06 2.06-.94-2.06-.94L8.5 2.5l-.94 2.06-2.06.94zm10 10l.94 2.06.94-2.06 2.06-.94-2.06-.94-.94-2.06-.94 2.06-2.06.94z\"/><path d=\"M17.41 7.96l-1.37-1.37c-.4-.4-.92-.59-1.43-.59-.52 0-1.04.2-1.43.59L10.3 9.45l-7.72 7.72c-.78.78-.78 2.05 0 2.83L4 21.41c.39.39.9.59 1.41.59.51 0 1.02-.2 1.41-.59l7.78-7.78 2.81-2.81c.8-.78.8-2.07 0-2.86zM5.41 20L4 18.59l7.72-7.72 1.47 1.35L5.41 20z\"/>\n",
       "  </svg>\n",
       "      </button>\n",
       "      \n",
       "  <style>\n",
       "    .colab-df-container {\n",
       "      display:flex;\n",
       "      flex-wrap:wrap;\n",
       "      gap: 12px;\n",
       "    }\n",
       "\n",
       "    .colab-df-convert {\n",
       "      background-color: #E8F0FE;\n",
       "      border: none;\n",
       "      border-radius: 50%;\n",
       "      cursor: pointer;\n",
       "      display: none;\n",
       "      fill: #1967D2;\n",
       "      height: 32px;\n",
       "      padding: 0 0 0 0;\n",
       "      width: 32px;\n",
       "    }\n",
       "\n",
       "    .colab-df-convert:hover {\n",
       "      background-color: #E2EBFA;\n",
       "      box-shadow: 0px 1px 2px rgba(60, 64, 67, 0.3), 0px 1px 3px 1px rgba(60, 64, 67, 0.15);\n",
       "      fill: #174EA6;\n",
       "    }\n",
       "\n",
       "    [theme=dark] .colab-df-convert {\n",
       "      background-color: #3B4455;\n",
       "      fill: #D2E3FC;\n",
       "    }\n",
       "\n",
       "    [theme=dark] .colab-df-convert:hover {\n",
       "      background-color: #434B5C;\n",
       "      box-shadow: 0px 1px 3px 1px rgba(0, 0, 0, 0.15);\n",
       "      filter: drop-shadow(0px 1px 2px rgba(0, 0, 0, 0.3));\n",
       "      fill: #FFFFFF;\n",
       "    }\n",
       "  </style>\n",
       "\n",
       "      <script>\n",
       "        const buttonEl =\n",
       "          document.querySelector('#df-d7e8b589-e233-4bb5-9306-b37ce25f7bc1 button.colab-df-convert');\n",
       "        buttonEl.style.display =\n",
       "          google.colab.kernel.accessAllowed ? 'block' : 'none';\n",
       "\n",
       "        async function convertToInteractive(key) {\n",
       "          const element = document.querySelector('#df-d7e8b589-e233-4bb5-9306-b37ce25f7bc1');\n",
       "          const dataTable =\n",
       "            await google.colab.kernel.invokeFunction('convertToInteractive',\n",
       "                                                     [key], {});\n",
       "          if (!dataTable) return;\n",
       "\n",
       "          const docLinkHtml = 'Like what you see? Visit the ' +\n",
       "            '<a target=\"_blank\" href=https://colab.research.google.com/notebooks/data_table.ipynb>data table notebook</a>'\n",
       "            + ' to learn more about interactive tables.';\n",
       "          element.innerHTML = '';\n",
       "          dataTable['output_type'] = 'display_data';\n",
       "          await google.colab.output.renderOutput(dataTable, element);\n",
       "          const docLink = document.createElement('div');\n",
       "          docLink.innerHTML = docLinkHtml;\n",
       "          element.appendChild(docLink);\n",
       "        }\n",
       "      </script>\n",
       "    </div>\n",
       "  </div>\n",
       "  "
      ],
      "text/plain": [
       "   Health Service Area  Facility ID  Age Group  Length of Stay  \\\n",
       "0                    4       1458.0          0              20   \n",
       "1                    4       1458.0          0              42   \n",
       "2                    4       1464.0          0              20   \n",
       "3                    5        977.0          0              20   \n",
       "4                    4       1176.0          0              31   \n",
       "\n",
       "   Type of Admission  Patient Disposition  CCS Procedure Description  \\\n",
       "0                  2                    5                         22   \n",
       "1                  1                    1                        171   \n",
       "2                  2                    5                         94   \n",
       "3                  2                    5                        163   \n",
       "4                  1                    5                         32   \n",
       "\n",
       "   APR Severity of Illness Code  APR Risk of Mortality  Source of Payment 1  \n",
       "0                             0                      2                    2  \n",
       "1                             1                      1                    2  \n",
       "2                             0                      2                    0  \n",
       "3                             1                      2                    0  \n",
       "4                             1                      2                    7  "
      ]
     },
     "execution_count": 198,
     "metadata": {},
     "output_type": "execute_result"
    }
   ],
   "source": [
    "data.head()"
   ]
  },
  {
   "cell_type": "markdown",
   "metadata": {
    "id": "yMhNLD5p8cmn"
   },
   "source": [
    "### 1. Logistic Regression\n"
   ]
  },
  {
   "cell_type": "code",
   "execution_count": 200,
   "metadata": {
    "colab": {
     "base_uri": "https://localhost:8080/"
    },
    "id": "fBhxXMN-5nwi",
    "outputId": "f981506d-1311-4d36-e04e-1fe996ae9112"
   },
   "outputs": [
    {
     "name": "stdout",
     "output_type": "stream",
     "text": [
      "Training set accuracy: 0.641\n",
      "Test set accuracy: 0.640\n",
      "\n"
     ]
    },
    {
     "name": "stderr",
     "output_type": "stream",
     "text": [
      "/usr/local/lib/python3.10/dist-packages/sklearn/linear_model/_logistic.py:458: ConvergenceWarning: lbfgs failed to converge (status=1):\n",
      "STOP: TOTAL NO. of ITERATIONS REACHED LIMIT.\n",
      "\n",
      "Increase the number of iterations (max_iter) or scale the data as shown in:\n",
      "    https://scikit-learn.org/stable/modules/preprocessing.html\n",
      "Please also refer to the documentation for alternative solver options:\n",
      "    https://scikit-learn.org/stable/modules/linear_model.html#logistic-regression\n",
      "  n_iter_i = _check_optimize_result(\n"
     ]
    }
   ],
   "source": [
    "from sklearn.linear_model import LogisticRegression\n",
    "\n",
    "#Crating A logisticRegression Object\n",
    "logmodel = LogisticRegression()\n",
    "\n",
    "logmodel.fit(X_train,y_train)\n",
    "\n",
    "# calculate accuracy#\n",
    "print(\"Training set accuracy: {:.3f}\".format(logmodel.score(X_train, y_train)))\n",
    "print(\"Test set accuracy: {:.3f}\".format(logmodel.score(X_test, y_test)))\n",
    "print()"
   ]
  },
  {
   "cell_type": "markdown",
   "metadata": {
    "id": "qR-PB13Obzwm"
   },
   "source": [
    "### Linear Model"
   ]
  },
  {
   "cell_type": "code",
   "execution_count": 201,
   "metadata": {
    "colab": {
     "base_uri": "https://localhost:8080/"
    },
    "id": "Rd_jbmuTWinO",
    "outputId": "103517c4-78b7-438f-e892-8e924696b494"
   },
   "outputs": [
    {
     "name": "stdout",
     "output_type": "stream",
     "text": [
      "Linear Regression:Training set accuracy: 0.099\n",
      "Linear Regression:Test set accuracy: 0.097\n"
     ]
    }
   ],
   "source": [
    "from sklearn import linear_model\n",
    "\n",
    "#Crating A linear Regression Object\n",
    "lin_reg = linear_model.LinearRegression()\n",
    "\n",
    "lin_reg.fit(X_train, y_train)\n",
    "\n",
    "# calculate accuracy#\n",
    "print(\"Linear Regression:Training set accuracy: {:.3f}\".format(lin_reg.score(X_train, y_train)))\n",
    "print(\"Linear Regression:Test set accuracy: {:.3f}\".format(lin_reg.score(X_test, y_test)))"
   ]
  },
  {
   "cell_type": "markdown",
   "metadata": {
    "id": "UWVN-C5CbuiG"
   },
   "source": [
    "### Decsion Tree"
   ]
  },
  {
   "cell_type": "code",
   "execution_count": 202,
   "metadata": {
    "colab": {
     "base_uri": "https://localhost:8080/"
    },
    "id": "lADEYumZ7pw5",
    "outputId": "18fa0748-637c-482b-b754-7b865868cbcc"
   },
   "outputs": [
    {
     "name": "stdout",
     "output_type": "stream",
     "text": [
      "Accuracy on training set: 0.974\n",
      "Accuracy on test set: 0.879\n"
     ]
    }
   ],
   "source": [
    "from sklearn.tree import DecisionTreeClassifier\n",
    "\n",
    "tree = DecisionTreeClassifier(random_state=0)\n",
    "tree.fit(X_train, y_train)\n",
    "print(\"Accuracy on training set: {:.3f}\".format(tree.score(X_train, y_train)))\n",
    "print(\"Accuracy on test set: {:.3f}\".format(tree.score(X_test, y_test)))"
   ]
  },
  {
   "cell_type": "code",
   "execution_count": 203,
   "metadata": {
    "colab": {
     "base_uri": "https://localhost:8080/"
    },
    "id": "QamK-xsW7qHg",
    "outputId": "6a7f4299-0dd7-431c-e36d-d648b7d7b777"
   },
   "outputs": [
    {
     "name": "stdout",
     "output_type": "stream",
     "text": [
      "Accuracy on training set: 0.699\n",
      "Accuracy on test set: 0.697\n"
     ]
    }
   ],
   "source": [
    "tree = DecisionTreeClassifier(max_depth=2, random_state=0)\n",
    "tree.fit(X_train, y_train)\n",
    "\n",
    "print(\"Accuracy on training set: {:.3f}\".format(tree.score(X_train, y_train)))\n",
    "print(\"Accuracy on test set: {:.3f}\".format(tree.score(X_test, y_test)))"
   ]
  },
  {
   "cell_type": "markdown",
   "metadata": {
    "id": "KdHv8x_ab_xw"
   },
   "source": [
    "### Naive Bayes"
   ]
  },
  {
   "cell_type": "code",
   "execution_count": 204,
   "metadata": {
    "colab": {
     "base_uri": "https://localhost:8080/"
    },
    "id": "lWLI3pV6cDwn",
    "outputId": "f60fd0ba-a1a2-400d-b112-7034eb0f0822"
   },
   "outputs": [
    {
     "name": "stdout",
     "output_type": "stream",
     "text": [
      "Accuracy on training set: 0.513\n",
      "Accuracy on test set: 0.512\n"
     ]
    }
   ],
   "source": [
    "from sklearn.naive_bayes import GaussianNB\n",
    "gnb = GaussianNB()\n",
    "gnb.fit(X_train, y_train)\n",
    "\n",
    "print(\"Accuracy on training set: {:.3f}\".format(gnb.score(X_train, y_train)))\n",
    "print(\"Accuracy on test set: {:.3f}\".format(gnb.score(X_test, y_test)))"
   ]
  },
  {
   "cell_type": "code",
   "execution_count": 205,
   "metadata": {
    "id": "XIPtL96G5gFD"
   },
   "outputs": [],
   "source": [
    "y_pred =logmodel.predict(X_test)"
   ]
  },
  {
   "cell_type": "code",
   "execution_count": 206,
   "metadata": {
    "colab": {
     "base_uri": "https://localhost:8080/"
    },
    "id": "ELRNhymP5gHi",
    "outputId": "430b2a81-3ea5-47bc-fd14-773c01e633e0"
   },
   "outputs": [
    {
     "data": {
      "text/plain": [
       "array([2, 2, 2, 2, 2, 2, 2, 2, 2, 2, 2, 2, 2, 2, 2, 2, 2, 2, 2, 2])"
      ]
     },
     "execution_count": 206,
     "metadata": {},
     "output_type": "execute_result"
    }
   ],
   "source": [
    "y_pred[:20]"
   ]
  },
  {
   "cell_type": "code",
   "execution_count": 207,
   "metadata": {
    "id": "WFD5Bt0xlpBK"
   },
   "outputs": [],
   "source": [
    "# predict model using Decision Tree\n",
    "dtr_y_pred =tree.predict(X_test)"
   ]
  },
  {
   "cell_type": "code",
   "execution_count": 208,
   "metadata": {
    "colab": {
     "base_uri": "https://localhost:8080/"
    },
    "id": "5YwfAfGWmIKq",
    "outputId": "0ebca85b-85c0-415b-daaf-34b5a1640c28"
   },
   "outputs": [
    {
     "data": {
      "text/plain": [
       "array([2, 2, 2, 1, 2, 2, 2, 2, 2, 2, 2, 2, 2, 2, 2, 2, 1, 1, 2, 2])"
      ]
     },
     "execution_count": 208,
     "metadata": {},
     "output_type": "execute_result"
    }
   ],
   "source": [
    "dtr_y_pred[:20]"
   ]
  },
  {
   "cell_type": "code",
   "execution_count": 209,
   "metadata": {
    "colab": {
     "base_uri": "https://localhost:8080/"
    },
    "id": "u2uZ-LXq5gJ-",
    "outputId": "669330da-8482-4130-e940-486bb6435d69"
   },
   "outputs": [
    {
     "data": {
      "text/plain": [
       "array([2, 2, 2, ..., 2, 2, 2])"
      ]
     },
     "execution_count": 209,
     "metadata": {},
     "output_type": "execute_result"
    }
   ],
   "source": [
    "y_pred"
   ]
  },
  {
   "cell_type": "code",
   "execution_count": 210,
   "metadata": {
    "id": "Q6yZZjFo5gPa"
   },
   "outputs": [],
   "source": [
    "from sklearn.metrics import confusion_matrix, classification_report"
   ]
  },
  {
   "cell_type": "code",
   "execution_count": 211,
   "metadata": {
    "colab": {
     "base_uri": "https://localhost:8080/"
    },
    "id": "Nb5gYz8E6KiD",
    "outputId": "3ae33bcc-4ff0-41cb-bd19-39c0728487d7"
   },
   "outputs": [
    {
     "data": {
      "text/plain": [
       "array([[   0,    5,  258,    0],\n",
       "       [   0,   15, 1073,    0],\n",
       "       [   0,    3, 2544,    0],\n",
       "       [   0,    2,   98,    0]])"
      ]
     },
     "execution_count": 211,
     "metadata": {},
     "output_type": "execute_result"
    }
   ],
   "source": [
    "confusion_matrix(y_test,y_pred)"
   ]
  },
  {
   "cell_type": "code",
   "execution_count": 212,
   "metadata": {
    "colab": {
     "base_uri": "https://localhost:8080/"
    },
    "id": "JlHq7oErma36",
    "outputId": "d38cd868-e15a-4fda-b576-ee5cc7218c26"
   },
   "outputs": [
    {
     "data": {
      "text/plain": [
       "array([[  78,   85,  100,    0],\n",
       "       [  77,  284,  727,    0],\n",
       "       [   0,  122, 2425,    0],\n",
       "       [  27,   16,   57,    0]])"
      ]
     },
     "execution_count": 212,
     "metadata": {},
     "output_type": "execute_result"
    }
   ],
   "source": [
    "confusion_matrix(y_test,dtr_y_pred)"
   ]
  },
  {
   "cell_type": "code",
   "execution_count": 213,
   "metadata": {
    "colab": {
     "base_uri": "https://localhost:8080/"
    },
    "id": "8S68V77o6Kes",
    "outputId": "47f5de77-9ed9-4390-a266-b38a867d5ecc"
   },
   "outputs": [
    {
     "name": "stdout",
     "output_type": "stream",
     "text": [
      "              precision    recall  f1-score   support\n",
      "\n",
      "           0       0.00      0.00      0.00       263\n",
      "           1       0.60      0.01      0.03      1088\n",
      "           2       0.64      1.00      0.78      2547\n",
      "           4       0.00      0.00      0.00       100\n",
      "\n",
      "    accuracy                           0.64      3998\n",
      "   macro avg       0.31      0.25      0.20      3998\n",
      "weighted avg       0.57      0.64      0.50      3998\n",
      "\n"
     ]
    },
    {
     "name": "stderr",
     "output_type": "stream",
     "text": [
      "/usr/local/lib/python3.10/dist-packages/sklearn/metrics/_classification.py:1344: UndefinedMetricWarning: Precision and F-score are ill-defined and being set to 0.0 in labels with no predicted samples. Use `zero_division` parameter to control this behavior.\n",
      "  _warn_prf(average, modifier, msg_start, len(result))\n",
      "/usr/local/lib/python3.10/dist-packages/sklearn/metrics/_classification.py:1344: UndefinedMetricWarning: Precision and F-score are ill-defined and being set to 0.0 in labels with no predicted samples. Use `zero_division` parameter to control this behavior.\n",
      "  _warn_prf(average, modifier, msg_start, len(result))\n",
      "/usr/local/lib/python3.10/dist-packages/sklearn/metrics/_classification.py:1344: UndefinedMetricWarning: Precision and F-score are ill-defined and being set to 0.0 in labels with no predicted samples. Use `zero_division` parameter to control this behavior.\n",
      "  _warn_prf(average, modifier, msg_start, len(result))\n"
     ]
    }
   ],
   "source": [
    "print(classification_report(y_test,y_pred))"
   ]
  },
  {
   "cell_type": "code",
   "execution_count": 214,
   "metadata": {
    "colab": {
     "base_uri": "https://localhost:8080/"
    },
    "id": "L6U_Za656KcO",
    "outputId": "71315c2a-e134-406e-82f7-f8bdaecfaa08"
   },
   "outputs": [
    {
     "name": "stdout",
     "output_type": "stream",
     "text": [
      "Mean squared error: 0.63\n",
      "\n"
     ]
    }
   ],
   "source": [
    "from sklearn.metrics import mean_squared_error, r2_score\n",
    "print(\"Mean squared error: %.2f\\n\" % mean_squared_error(y_test, y_pred))"
   ]
  },
  {
   "cell_type": "markdown",
   "metadata": {
    "id": "RX_oz68X9Kok"
   },
   "source": [
    "Feature importance in Decision trees"
   ]
  },
  {
   "cell_type": "code",
   "execution_count": 215,
   "metadata": {
    "colab": {
     "base_uri": "https://localhost:8080/"
    },
    "id": "OfZn8NJF8752",
    "outputId": "1b5fd004-d976-45b6-a6a6-aa8f7843c719"
   },
   "outputs": [
    {
     "name": "stdout",
     "output_type": "stream",
     "text": [
      "Feature importances:\n",
      "[0.         0.04507076 0.43096495 0.52396429 0.         0.\n",
      " 0.         0.         0.        ]\n"
     ]
    }
   ],
   "source": [
    "print(\"Feature importances:\\n{}\".format(tree.feature_importances_))"
   ]
  },
  {
   "cell_type": "markdown",
   "metadata": {
    "id": "2jn4BLrW9ojN"
   },
   "source": [
    "## Random Forest"
   ]
  },
  {
   "cell_type": "code",
   "execution_count": 216,
   "metadata": {
    "colab": {
     "base_uri": "https://localhost:8080/"
    },
    "id": "W4oTGCFZ878o",
    "outputId": "0b00c0d6-2724-48f4-a9e9-5c2f7d06dddd"
   },
   "outputs": [
    {
     "name": "stdout",
     "output_type": "stream",
     "text": [
      "Accuracy on training set: 0.974\n",
      "Accuracy on test set: 0.885\n"
     ]
    }
   ],
   "source": [
    "from sklearn.ensemble import RandomForestClassifier\n",
    "\n",
    "rf = RandomForestClassifier(n_estimators=100, random_state=0)\n",
    "rf.fit(X_train, y_train)\n",
    "print(\"Accuracy on training set: {:.3f}\".format(rf.score(X_train, y_train)))\n",
    "print(\"Accuracy on test set: {:.3f}\".format(rf.score(X_test, y_test)))"
   ]
  },
  {
   "cell_type": "code",
   "execution_count": 217,
   "metadata": {
    "colab": {
     "base_uri": "https://localhost:8080/"
    },
    "id": "lSEm4AZu87_Q",
    "outputId": "ddd23068-e3a0-4987-d4f1-e7846c2cdd9a"
   },
   "outputs": [
    {
     "name": "stdout",
     "output_type": "stream",
     "text": [
      "Accuracy on training set: 0.728\n",
      "Accuracy on test set: 0.726\n"
     ]
    }
   ],
   "source": [
    "rf1 = RandomForestClassifier(max_depth=3, n_estimators=100, random_state=0)\n",
    "rf1.fit(X_train, y_train)\n",
    "print(\"Accuracy on training set: {:.3f}\".format(rf1.score(X_train, y_train)))\n",
    "print(\"Accuracy on test set: {:.3f}\".format(rf1.score(X_test, y_test)))"
   ]
  },
  {
   "cell_type": "markdown",
   "metadata": {
    "id": "T7xfGWs1-ANC"
   },
   "source": [
    "### KNN Algorithm"
   ]
  },
  {
   "cell_type": "code",
   "execution_count": 218,
   "metadata": {
    "id": "qsdMBjg288CG"
   },
   "outputs": [],
   "source": [
    "from sklearn.model_selection import train_test_split\n",
    "\n",
    "X_train, X_test, y_train, y_test = train_test_split(data.loc[:, data.columns != 'Type of Admission'], data['Type of Admission'],stratify=data['Type of Admission'], random_state=66)\n"
   ]
  },
  {
   "cell_type": "code",
   "execution_count": 219,
   "metadata": {
    "colab": {
     "base_uri": "https://localhost:8080/",
     "height": 450
    },
    "id": "CadlOh5Q88Ee",
    "outputId": "28c63626-2ce4-4b69-fa42-59b7fe219c07"
   },
   "outputs": [
    {
     "data": {
      "image/png": "[encoded data removed]",
      "text/plain": [
       "<Figure size 640x480 with 1 Axes>"
      ]
     },
     "metadata": {},
     "output_type": "display_data"
    }
   ],
   "source": [
    "from sklearn.neighbors import KNeighborsClassifier\n",
    "\n",
    "training_accuracy = []\n",
    "test_accuracy = []\n",
    "# try n_neighbors from 1 to 10\n",
    "neighbors_settings = range(1, 11)\n",
    "\n",
    "for n_neighbors in neighbors_settings:\n",
    "    # build the model\n",
    "    knn = KNeighborsClassifier(n_neighbors=n_neighbors)\n",
    "    knn.fit(X_train, y_train)\n",
    "    # record training set accuracy\n",
    "    training_accuracy.append(knn.score(X_train, y_train))\n",
    "    # record test set accuracy\n",
    "    test_accuracy.append(knn.score(X_test, y_test))\n",
    "\n",
    "plt.plot(neighbors_settings, training_accuracy, label=\"training accuracy\")\n",
    "plt.plot(neighbors_settings, test_accuracy, label=\"test accuracy\")\n",
    "plt.ylabel(\"Accuracy\")\n",
    "plt.xlabel(\"n_neighbors\")\n",
    "plt.legend()\n",
    "plt.grid(True)\n",
    "plt.savefig('knn_compare_model')"
   ]
  },
  {
   "cell_type": "markdown",
   "metadata": {
    "id": "o2LWyv0e-2pz"
   },
   "source": [
    "### SVM = Support Vector Machine\n"
   ]
  },
  {
   "cell_type": "code",
   "execution_count": 220,
   "metadata": {
    "colab": {
     "base_uri": "https://localhost:8080/"
    },
    "id": "xqeS1CtL88HH",
    "outputId": "acad8d47-5eb3-4253-fe32-9413281b8c60"
   },
   "outputs": [
    {
     "name": "stdout",
     "output_type": "stream",
     "text": [
      "Accuracy on training set: 0.64\n",
      "Accuracy on test set: 0.64\n"
     ]
    }
   ],
   "source": [
    "from sklearn.svm import SVC\n",
    "\n",
    "svc = SVC()\n",
    "svc.fit(X_train, y_train)\n",
    "\n",
    "print(\"Accuracy on training set: {:.2f}\".format(svc.score(X_train, y_train)))\n",
    "print(\"Accuracy on test set: {:.2f}\".format(svc.score(X_test, y_test)))"
   ]
  },
  {
   "cell_type": "code",
   "execution_count": 221,
   "metadata": {
    "colab": {
     "base_uri": "https://localhost:8080/"
    },
    "id": "eeyC8VLg88J1",
    "outputId": "7dd8fdb8-aaf5-420e-b580-692905948d8d"
   },
   "outputs": [
    {
     "name": "stdout",
     "output_type": "stream",
     "text": [
      "Accuracy on training set: 0.73\n",
      "Accuracy on test set: 0.72\n"
     ]
    }
   ],
   "source": [
    "from sklearn.preprocessing import MinMaxScaler\n",
    "\n",
    "scaler = MinMaxScaler()\n",
    "X_train_scaled = scaler.fit_transform(X_train)\n",
    "X_test_scaled = scaler.fit_transform(X_test)\n",
    "\n",
    "svc = SVC()\n",
    "svc.fit(X_train_scaled, y_train)\n",
    "\n",
    "print(\"Accuracy on training set: {:.2f}\".format(svc.score(X_train_scaled, y_train)))\n",
    "print(\"Accuracy on test set: {:.2f}\".format(svc.score(X_test_scaled, y_test)))"
   ]
  },
  {
   "cell_type": "code",
   "execution_count": 222,
   "metadata": {
    "colab": {
     "base_uri": "https://localhost:8080/"
    },
    "id": "5bLYi-J588Ms",
    "outputId": "702dc8ba-caba-4706-81bc-e975e29b1829"
   },
   "outputs": [
    {
     "name": "stdout",
     "output_type": "stream",
     "text": [
      "Accuracy on training set: 0.775\n",
      "Accuracy on test set: 0.523\n"
     ]
    }
   ],
   "source": [
    "svc = SVC(C=1000)\n",
    "svc.fit(X_train_scaled, y_train)\n",
    "\n",
    "print(\"Accuracy on training set: {:.3f}\".format(\n",
    "    svc.score(X_train_scaled, y_train)))\n",
    "print(\"Accuracy on test set: {:.3f}\".format(svc.score(X_test_scaled, y_test)))"
   ]
  },
  {
   "cell_type": "markdown",
   "metadata": {
    "id": "e9FTvubH_9GV"
   },
   "source": [
    "### Neural Network"
   ]
  },
  {
   "cell_type": "code",
   "execution_count": 223,
   "metadata": {
    "id": "pRBB_gpt88P7"
   },
   "outputs": [],
   "source": [
    "from sklearn.model_selection import train_test_split\n",
    "X_train, X_test, y_train, y_test = train_test_split(X, y, test_size = 0.2, random_state = 47, stratify=y)"
   ]
  },
  {
   "cell_type": "code",
   "execution_count": 224,
   "metadata": {
    "id": "p17Jy5QA88ZE"
   },
   "outputs": [],
   "source": [
    "from sklearn.preprocessing import MinMaxScaler\n",
    "from sklearn.neural_network import MLPClassifier"
   ]
  },
  {
   "cell_type": "code",
   "execution_count": 225,
   "metadata": {
    "id": "oqDI72XZ88cZ"
   },
   "outputs": [],
   "source": [
    "from sklearn.preprocessing import MinMaxScaler\n",
    "\n",
    "scaler = MinMaxScaler()\n",
    "X_train=scaler.fit_transform(X_train)\n",
    "x_test=scaler.transform(X_test)"
   ]
  },
  {
   "cell_type": "code",
   "execution_count": 226,
   "metadata": {
    "colab": {
     "base_uri": "https://localhost:8080/"
    },
    "id": "W1Uw_N0988nH",
    "outputId": "502cd878-83ad-4f98-df7c-25769e343e29"
   },
   "outputs": [
    {
     "data": {
      "text/plain": [
       "((15989, 9), (15989,))"
      ]
     },
     "execution_count": 226,
     "metadata": {},
     "output_type": "execute_result"
    }
   ],
   "source": [
    "(X_train.shape,y_train.shape)"
   ]
  },
  {
   "cell_type": "code",
   "execution_count": 227,
   "metadata": {
    "colab": {
     "base_uri": "https://localhost:8080/"
    },
    "id": "eMNBfzl388uP",
    "outputId": "7de289e4-72c9-4b8f-98d5-b8f458eb00c3"
   },
   "outputs": [
    {
     "name": "stdout",
     "output_type": "stream",
     "text": [
      "[[0.66666667 0.36663312 0.         ... 0.         0.66666667 0.        ]\n",
      " [0.66666667 0.3686462  0.         ... 0.33333333 1.         0.25      ]\n",
      " [0.66666667 0.36789129 0.         ... 0.         0.66666667 0.25      ]\n",
      " ...\n",
      " [0.66666667 0.3616004  0.         ... 0.         0.66666667 0.25      ]\n",
      " [0.66666667 0.36663312 0.         ... 0.33333333 0.66666667 0.        ]\n",
      " [0.66666667 0.36990438 0.         ... 0.         0.66666667 0.25      ]]\n"
     ]
    }
   ],
   "source": [
    "print(X_train)"
   ]
  },
  {
   "cell_type": "code",
   "execution_count": 228,
   "metadata": {
    "id": "6oOmIoRBk4TB"
   },
   "outputs": [],
   "source": [
    "import tensorflow as tf\n",
    "from keras.models import Sequential # It is linear stack of layers)\n",
    "from keras.layers import Dense, Dropout, Conv2D, MaxPooling2D, Flatten\n",
    "from tensorflow.keras.optimizers import Adam"
   ]
  },
  {
   "cell_type": "code",
   "execution_count": 229,
   "metadata": {
    "colab": {
     "base_uri": "https://localhost:8080/"
    },
    "id": "4iupllRYqliI",
    "outputId": "b369c699-93e1-46b8-f24b-448579939311"
   },
   "outputs": [
    {
     "name": "stdout",
     "output_type": "stream",
     "text": [
      "Model: \"sequential\"\n",
      "_________________________________________________________________\n",
      " Layer (type)                Output Shape              Param #   \n",
      "=================================================================\n",
      " dense (Dense)               (None, 4)                 40        \n",
      "                                                                 \n",
      " dense_1 (Dense)             (None, 1)                 5         \n",
      "                                                                 \n",
      "=================================================================\n",
      "Total params: 45\n",
      "Trainable params: 45\n",
      "Non-trainable params: 0\n",
      "_________________________________________________________________\n"
     ]
    }
   ],
   "source": [
    "model = tf.keras.Sequential([\n",
    "    tf.keras.layers.Dense(4, activation = 'relu', input_shape=(X_train.shape[1], )),   #\n",
    "    tf.keras.layers.Dense(1, activation = 'sigmoid')\n",
    "])\n",
    "\n",
    "model.summary()"
   ]
  },
  {
   "cell_type": "code",
   "execution_count": 230,
   "metadata": {
    "colab": {
     "base_uri": "https://localhost:8080/"
    },
    "id": "bha1KLcRqlky",
    "outputId": "c1902287-c7b4-44f6-b454-d2417982bf62"
   },
   "outputs": [
    {
     "data": {
      "text/plain": [
       "[<tf.Variable 'dense/kernel:0' shape=(9, 4) dtype=float32, numpy=\n",
       " array([[-0.18563026,  0.14933103, -0.28566283,  0.03486043],\n",
       "        [-0.3135644 , -0.63520837, -0.47725534, -0.52336824],\n",
       "        [ 0.4634434 , -0.00390875,  0.5874306 , -0.51483285],\n",
       "        [-0.23275337,  0.57282996, -0.39077863, -0.02931136],\n",
       "        [ 0.10573763, -0.00880277, -0.6527098 ,  0.24600863],\n",
       "        [ 0.13691527,  0.30286926, -0.2719061 ,  0.18815804],\n",
       "        [ 0.12580729, -0.65704274,  0.54211664, -0.14502347],\n",
       "        [-0.44194686,  0.58766913,  0.23133385,  0.42943347],\n",
       "        [ 0.6174232 , -0.16269433, -0.34600398,  0.4069233 ]],\n",
       "       dtype=float32)>,\n",
       " <tf.Variable 'dense/bias:0' shape=(4,) dtype=float32, numpy=array([0., 0., 0., 0.], dtype=float32)>,\n",
       " <tf.Variable 'dense_1/kernel:0' shape=(4, 1) dtype=float32, numpy=\n",
       " array([[-0.71273077],\n",
       "        [ 1.0901151 ],\n",
       "        [ 0.2434125 ],\n",
       "        [-0.15948647]], dtype=float32)>,\n",
       " <tf.Variable 'dense_1/bias:0' shape=(1,) dtype=float32, numpy=array([0.], dtype=float32)>]"
      ]
     },
     "execution_count": 230,
     "metadata": {},
     "output_type": "execute_result"
    }
   ],
   "source": [
    "model.variables"
   ]
  },
  {
   "cell_type": "code",
   "execution_count": 231,
   "metadata": {
    "id": "k6KJW92lqlnd"
   },
   "outputs": [],
   "source": [
    "# Compiling the ANN\n",
    "model.compile(optimizer='adam', loss='binary_crossentropy', metrics=['accuracy'])\n"
   ]
  },
  {
   "cell_type": "code",
   "execution_count": 232,
   "metadata": {
    "colab": {
     "base_uri": "https://localhost:8080/"
    },
    "id": "ki0aD9Fpqlp7",
    "outputId": "d1586604-7716-4af3-c80a-fda89454e54c"
   },
   "outputs": [
    {
     "name": "stdout",
     "output_type": "stream",
     "text": [
      "Epoch 1/10\n",
      "500/500 [==============================] - 3s 3ms/step - loss: -1.3502 - accuracy: 0.2724 - val_loss: -0.2048 - val_accuracy: 0.2729\n",
      "Epoch 2/10\n",
      "500/500 [==============================] - 1s 2ms/step - loss: -6.0415 - accuracy: 0.2728 - val_loss: -2203.5713 - val_accuracy: 0.2729\n",
      "Epoch 3/10\n",
      "500/500 [==============================] - 1s 2ms/step - loss: -18.2836 - accuracy: 0.2728 - val_loss: -7804.6035 - val_accuracy: 0.2729\n",
      "Epoch 4/10\n",
      "500/500 [==============================] - 1s 2ms/step - loss: -36.0517 - accuracy: 0.2728 - val_loss: -15416.1670 - val_accuracy: 0.2729\n",
      "Epoch 5/10\n",
      "500/500 [==============================] - 1s 2ms/step - loss: -58.0510 - accuracy: 0.2728 - val_loss: -24774.9961 - val_accuracy: 0.2729\n",
      "Epoch 6/10\n",
      "500/500 [==============================] - 1s 2ms/step - loss: -83.8648 - accuracy: 0.2728 - val_loss: -35723.0039 - val_accuracy: 0.2729\n",
      "Epoch 7/10\n",
      "500/500 [==============================] - 1s 2ms/step - loss: -113.2610 - accuracy: 0.2728 - val_loss: -48168.6055 - val_accuracy: 0.2729\n",
      "Epoch 8/10\n",
      "500/500 [==============================] - 1s 2ms/step - loss: -146.0301 - accuracy: 0.2728 - val_loss: -62030.9609 - val_accuracy: 0.2729\n",
      "Epoch 9/10\n",
      "500/500 [==============================] - 1s 3ms/step - loss: -181.9587 - accuracy: 0.2728 - val_loss: -77232.6875 - val_accuracy: 0.2729\n",
      "Epoch 10/10\n",
      "500/500 [==============================] - 2s 3ms/step - loss: -220.9534 - accuracy: 0.2728 - val_loss: -93762.8594 - val_accuracy: 0.2729\n"
     ]
    }
   ],
   "source": [
    "# Fitting the ANN to the Training set\n",
    "history = model.fit(X_train, y_train, batch_size=32, epochs=10, validation_data=(X_test, y_test))"
   ]
  },
  {
   "cell_type": "code",
   "execution_count": 233,
   "metadata": {
    "colab": {
     "base_uri": "https://localhost:8080/"
    },
    "id": "8aIGe5m2qls8",
    "outputId": "62c6d72c-2e49-4e86-9c66-61c99864807f"
   },
   "outputs": [
    {
     "name": "stdout",
     "output_type": "stream",
     "text": [
      "125/125 [==============================] - 0s 1ms/step\n"
     ]
    }
   ],
   "source": [
    "#now testing for Test data\n",
    "y_pred = model.predict(X_test)\n"
   ]
  },
  {
   "cell_type": "code",
   "execution_count": 234,
   "metadata": {
    "colab": {
     "base_uri": "https://localhost:8080/"
    },
    "id": "-fqvYivgqlvn",
    "outputId": "d840e0cf-dfc6-42ce-d233-0ba44726c735"
   },
   "outputs": [
    {
     "name": "stdout",
     "output_type": "stream",
     "text": [
      "[[1.]\n",
      " [1.]\n",
      " [1.]\n",
      " ...\n",
      " [1.]\n",
      " [1.]\n",
      " [1.]]\n"
     ]
    }
   ],
   "source": [
    "print(y_pred)"
   ]
  },
  {
   "cell_type": "code",
   "execution_count": 235,
   "metadata": {
    "colab": {
     "base_uri": "https://localhost:8080/"
    },
    "id": "pnJCFTAuqlyw",
    "outputId": "79c7ace7-2a49-44cd-c012-97a8e73a4fed"
   },
   "outputs": [
    {
     "name": "stdout",
     "output_type": "stream",
     "text": [
      "[[ True]\n",
      " [ True]\n",
      " [ True]\n",
      " ...\n",
      " [ True]\n",
      " [ True]\n",
      " [ True]]\n"
     ]
    }
   ],
   "source": [
    "#converting values\n",
    "y_pred = (y_pred>0.5)\n",
    "print(y_pred)"
   ]
  },
  {
   "cell_type": "code",
   "execution_count": null,
   "metadata": {},
   "outputs": [],
   "source": []
  }
 ],
 "metadata": {
  "colab": {
   "provenance": []
  },
  "kernelspec": {
   "display_name": "Python 3 (ipykernel)",
   "language": "python",
   "name": "python3"
  },
  "language_info": {
   "codemirror_mode": {
    "name": "ipython",
    "version": 3
   },
   "file_extension": ".py",
   "mimetype": "text/x-python",
   "name": "python",
   "nbconvert_exporter": "python",
   "pygments_lexer": "ipython3",
   "version": "3.11.4"
  }
 },
 "nbformat": 4,
 "nbformat_minor": 1
}
